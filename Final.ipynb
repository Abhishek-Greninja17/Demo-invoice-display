{
 "cells": [
  {
   "cell_type": "markdown",
   "id": "88139297",
   "metadata": {},
   "source": [
    "# H2HBABBA2250 \n",
    "### Aim: Build a Machine Learning model to predict the date of payment of an invoice"
   ]
  },
  {
   "cell_type": "code",
   "execution_count": 1,
   "id": "44829ae0",
   "metadata": {},
   "outputs": [],
   "source": [
    "#importing libraries\n",
    "import pandas as pd\n",
    "import numpy as np\n",
    "import  matplotlib.pyplot as plt\n",
    "import seaborn as sns\n",
    "from sklearn import datasets, linear_model\n",
    "from sklearn.model_selection import train_test_split \n",
    "%matplotlib inline\n",
    "import warnings\n",
    "warnings.filterwarnings(\"ignore\")"
   ]
  },
  {
   "cell_type": "code",
   "execution_count": 2,
   "id": "d5525d45",
   "metadata": {},
   "outputs": [
    {
     "data": {
      "text/html": [
       "<div>\n",
       "<style scoped>\n",
       "    .dataframe tbody tr th:only-of-type {\n",
       "        vertical-align: middle;\n",
       "    }\n",
       "\n",
       "    .dataframe tbody tr th {\n",
       "        vertical-align: top;\n",
       "    }\n",
       "\n",
       "    .dataframe thead th {\n",
       "        text-align: right;\n",
       "    }\n",
       "</style>\n",
       "<table border=\"1\" class=\"dataframe\">\n",
       "  <thead>\n",
       "    <tr style=\"text-align: right;\">\n",
       "      <th></th>\n",
       "      <th>business_code</th>\n",
       "      <th>cust_number</th>\n",
       "      <th>name_customer</th>\n",
       "      <th>clear_date</th>\n",
       "      <th>buisness_year</th>\n",
       "      <th>doc_id</th>\n",
       "      <th>posting_date</th>\n",
       "      <th>document_create_date</th>\n",
       "      <th>document_create_date.1</th>\n",
       "      <th>due_in_date</th>\n",
       "      <th>invoice_currency</th>\n",
       "      <th>document type</th>\n",
       "      <th>posting_id</th>\n",
       "      <th>area_business</th>\n",
       "      <th>total_open_amount</th>\n",
       "      <th>baseline_create_date</th>\n",
       "      <th>cust_payment_terms</th>\n",
       "      <th>invoice_id</th>\n",
       "      <th>isOpen</th>\n",
       "    </tr>\n",
       "  </thead>\n",
       "  <tbody>\n",
       "    <tr>\n",
       "      <th>0</th>\n",
       "      <td>U001</td>\n",
       "      <td>200785971</td>\n",
       "      <td>SYSCO  foundation</td>\n",
       "      <td>2019-07-18 00:00:00</td>\n",
       "      <td>2019.0</td>\n",
       "      <td>1.929571e+09</td>\n",
       "      <td>2019-07-02</td>\n",
       "      <td>20190703</td>\n",
       "      <td>20190702</td>\n",
       "      <td>20190717.0</td>\n",
       "      <td>USD</td>\n",
       "      <td>RV</td>\n",
       "      <td>1.0</td>\n",
       "      <td>NaN</td>\n",
       "      <td>19922.82</td>\n",
       "      <td>20190702.0</td>\n",
       "      <td>NAA8</td>\n",
       "      <td>1.929571e+09</td>\n",
       "      <td>0</td>\n",
       "    </tr>\n",
       "    <tr>\n",
       "      <th>1</th>\n",
       "      <td>U001</td>\n",
       "      <td>0200743123</td>\n",
       "      <td>KROGER in</td>\n",
       "      <td>2019-11-15 00:00:00</td>\n",
       "      <td>2019.0</td>\n",
       "      <td>1.930078e+09</td>\n",
       "      <td>2019-10-31</td>\n",
       "      <td>20191101</td>\n",
       "      <td>20191031</td>\n",
       "      <td>20191115.0</td>\n",
       "      <td>USD</td>\n",
       "      <td>RV</td>\n",
       "      <td>1.0</td>\n",
       "      <td>NaN</td>\n",
       "      <td>38332.25</td>\n",
       "      <td>20191031.0</td>\n",
       "      <td>NAA8</td>\n",
       "      <td>1.930078e+09</td>\n",
       "      <td>0</td>\n",
       "    </tr>\n",
       "    <tr>\n",
       "      <th>2</th>\n",
       "      <td>U001</td>\n",
       "      <td>0200772595</td>\n",
       "      <td>SAFEW corporation</td>\n",
       "      <td>NaN</td>\n",
       "      <td>2020.0</td>\n",
       "      <td>1.930704e+09</td>\n",
       "      <td>2020-03-25</td>\n",
       "      <td>20200326</td>\n",
       "      <td>20200325</td>\n",
       "      <td>20200409.0</td>\n",
       "      <td>USD</td>\n",
       "      <td>RV</td>\n",
       "      <td>1.0</td>\n",
       "      <td>NaN</td>\n",
       "      <td>73080.87</td>\n",
       "      <td>20200325.0</td>\n",
       "      <td>NAA8</td>\n",
       "      <td>1.930704e+09</td>\n",
       "      <td>1</td>\n",
       "    </tr>\n",
       "    <tr>\n",
       "      <th>3</th>\n",
       "      <td>U001</td>\n",
       "      <td>0200769623</td>\n",
       "      <td>WAL-MAR us</td>\n",
       "      <td>2019-04-30 00:00:00</td>\n",
       "      <td>2019.0</td>\n",
       "      <td>1.929168e+09</td>\n",
       "      <td>2019-04-19</td>\n",
       "      <td>20190418</td>\n",
       "      <td>20190419</td>\n",
       "      <td>20190504.0</td>\n",
       "      <td>USD</td>\n",
       "      <td>RV</td>\n",
       "      <td>1.0</td>\n",
       "      <td>NaN</td>\n",
       "      <td>25054.82</td>\n",
       "      <td>20190419.0</td>\n",
       "      <td>NAH4</td>\n",
       "      <td>1.929168e+09</td>\n",
       "      <td>0</td>\n",
       "    </tr>\n",
       "    <tr>\n",
       "      <th>4</th>\n",
       "      <td>U001</td>\n",
       "      <td>0200726979</td>\n",
       "      <td>BJ'S  corp</td>\n",
       "      <td>2020-02-18 00:00:00</td>\n",
       "      <td>2020.0</td>\n",
       "      <td>1.930470e+09</td>\n",
       "      <td>2020-02-03</td>\n",
       "      <td>20200202</td>\n",
       "      <td>20200203</td>\n",
       "      <td>20200218.0</td>\n",
       "      <td>USD</td>\n",
       "      <td>RV</td>\n",
       "      <td>1.0</td>\n",
       "      <td>NaN</td>\n",
       "      <td>63.48</td>\n",
       "      <td>20200203.0</td>\n",
       "      <td>NAA8</td>\n",
       "      <td>1.930470e+09</td>\n",
       "      <td>0</td>\n",
       "    </tr>\n",
       "  </tbody>\n",
       "</table>\n",
       "</div>"
      ],
      "text/plain": [
       "  business_code cust_number      name_customer           clear_date  \\\n",
       "0          U001   200785971  SYSCO  foundation  2019-07-18 00:00:00   \n",
       "1          U001  0200743123          KROGER in  2019-11-15 00:00:00   \n",
       "2          U001  0200772595  SAFEW corporation                  NaN   \n",
       "3          U001  0200769623         WAL-MAR us  2019-04-30 00:00:00   \n",
       "4          U001  0200726979         BJ'S  corp  2020-02-18 00:00:00   \n",
       "\n",
       "   buisness_year        doc_id posting_date  document_create_date  \\\n",
       "0         2019.0  1.929571e+09   2019-07-02              20190703   \n",
       "1         2019.0  1.930078e+09   2019-10-31              20191101   \n",
       "2         2020.0  1.930704e+09   2020-03-25              20200326   \n",
       "3         2019.0  1.929168e+09   2019-04-19              20190418   \n",
       "4         2020.0  1.930470e+09   2020-02-03              20200202   \n",
       "\n",
       "   document_create_date.1  due_in_date invoice_currency document type  \\\n",
       "0                20190702   20190717.0              USD            RV   \n",
       "1                20191031   20191115.0              USD            RV   \n",
       "2                20200325   20200409.0              USD            RV   \n",
       "3                20190419   20190504.0              USD            RV   \n",
       "4                20200203   20200218.0              USD            RV   \n",
       "\n",
       "   posting_id  area_business  total_open_amount  baseline_create_date  \\\n",
       "0         1.0            NaN           19922.82            20190702.0   \n",
       "1         1.0            NaN           38332.25            20191031.0   \n",
       "2         1.0            NaN           73080.87            20200325.0   \n",
       "3         1.0            NaN           25054.82            20190419.0   \n",
       "4         1.0            NaN              63.48            20200203.0   \n",
       "\n",
       "  cust_payment_terms    invoice_id  isOpen  \n",
       "0               NAA8  1.929571e+09       0  \n",
       "1               NAA8  1.930078e+09       0  \n",
       "2               NAA8  1.930704e+09       1  \n",
       "3               NAH4  1.929168e+09       0  \n",
       "4               NAA8  1.930470e+09       0  "
      ]
     },
     "execution_count": 2,
     "metadata": {},
     "output_type": "execute_result"
    }
   ],
   "source": [
    "#reading dataset\n",
    "data=pd.read_csv(\"H2HBABBA2250.csv\")\n",
    "untouched=data #copy of dataset \n",
    "data.head()"
   ]
  },
  {
   "cell_type": "code",
   "execution_count": 3,
   "id": "a4da7f74",
   "metadata": {},
   "outputs": [
    {
     "data": {
      "text/plain": [
       "(50000, 19)"
      ]
     },
     "execution_count": 3,
     "metadata": {},
     "output_type": "execute_result"
    }
   ],
   "source": [
    "data.shape\n",
    "#total rows and columns"
   ]
  },
  {
   "cell_type": "markdown",
   "id": "4633bcf9",
   "metadata": {},
   "source": [
    "### Pre-processing\n",
    "##### i) deleting null , duplicate and throughout-constant values\n",
    "##### ii) maintaining datatypes suitable for model \n",
    "##### iii) creating target values"
   ]
  },
  {
   "cell_type": "code",
   "execution_count": 4,
   "id": "f59016c1",
   "metadata": {
    "scrolled": true
   },
   "outputs": [
    {
     "data": {
      "text/plain": [
       "business_code                 0\n",
       "cust_number                   0\n",
       "name_customer                 0\n",
       "clear_date                10000\n",
       "buisness_year                 0\n",
       "doc_id                        0\n",
       "posting_date                  0\n",
       "document_create_date          0\n",
       "document_create_date.1        0\n",
       "due_in_date                   0\n",
       "invoice_currency              0\n",
       "document type                 0\n",
       "posting_id                    0\n",
       "area_business             50000\n",
       "total_open_amount             0\n",
       "baseline_create_date          0\n",
       "cust_payment_terms            0\n",
       "invoice_id                    1\n",
       "isOpen                        0\n",
       "dtype: int64"
      ]
     },
     "execution_count": 4,
     "metadata": {},
     "output_type": "execute_result"
    }
   ],
   "source": [
    "data.isnull().sum()\n",
    "#total number of null rows in each columns"
   ]
  },
  {
   "cell_type": "code",
   "execution_count": 5,
   "id": "67715e7c",
   "metadata": {},
   "outputs": [
    {
     "data": {
      "text/plain": [
       "(50000, 18)"
      ]
     },
     "execution_count": 5,
     "metadata": {},
     "output_type": "execute_result"
    }
   ],
   "source": [
    "data.dropna(how='all', inplace=True)\n",
    "data.dropna(how='all', axis=1, inplace=True)\n",
    "data.shape\n",
    "#deleting null rows and columns"
   ]
  },
  {
   "cell_type": "code",
   "execution_count": 6,
   "id": "d67e501e",
   "metadata": {},
   "outputs": [
    {
     "data": {
      "text/plain": [
       "(48776, 18)"
      ]
     },
     "execution_count": 6,
     "metadata": {},
     "output_type": "execute_result"
    }
   ],
   "source": [
    "i=data.duplicated().sum()\n",
    "#determines duplicate rows and deleting them\n",
    "if (i!=0):\n",
    "    data.drop_duplicates(keep='first', inplace=True)\n",
    "data.shape"
   ]
  },
  {
   "cell_type": "code",
   "execution_count": 7,
   "id": "24302e74",
   "metadata": {},
   "outputs": [
    {
     "data": {
      "text/plain": [
       "business_code              object\n",
       "cust_number                object\n",
       "name_customer              object\n",
       "clear_date                 object\n",
       "buisness_year             float64\n",
       "doc_id                    float64\n",
       "posting_date               object\n",
       "document_create_date        int64\n",
       "document_create_date.1      int64\n",
       "due_in_date               float64\n",
       "invoice_currency           object\n",
       "document type              object\n",
       "posting_id                float64\n",
       "total_open_amount         float64\n",
       "baseline_create_date      float64\n",
       "cust_payment_terms         object\n",
       "invoice_id                float64\n",
       "isOpen                      int64\n",
       "dtype: object"
      ]
     },
     "execution_count": 7,
     "metadata": {},
     "output_type": "execute_result"
    }
   ],
   "source": [
    "#posting_date:date format value 1\n",
    "#document_create_date: int format value 2\n",
    "#document_create_date1: int format value 1 \n",
    "#baseline_create_date: float format value 1\n",
    "#isOpen: int\n",
    "data.dtypes"
   ]
  },
  {
   "cell_type": "code",
   "execution_count": 8,
   "id": "f10bd962",
   "metadata": {},
   "outputs": [
    {
     "data": {
      "text/plain": [
       "0       2019-07-02\n",
       "1       2019-10-31\n",
       "2       2020-03-25\n",
       "3       2019-04-19\n",
       "4       2020-02-03\n",
       "           ...    \n",
       "49995   2020-01-29\n",
       "49996   2020-01-30\n",
       "49997   2019-10-03\n",
       "49998   2019-04-03\n",
       "49999   2019-09-09\n",
       "Name: posting_date, Length: 48776, dtype: datetime64[ns]"
      ]
     },
     "execution_count": 8,
     "metadata": {},
     "output_type": "execute_result"
    }
   ],
   "source": [
    "pd.to_datetime(data[\"posting_date\"])\n",
    "#converting to datetime "
   ]
  },
  {
   "cell_type": "code",
   "execution_count": 9,
   "id": "42c50779",
   "metadata": {},
   "outputs": [
    {
     "data": {
      "text/plain": [
       "0.9990645700784261"
      ]
     },
     "execution_count": 9,
     "metadata": {},
     "output_type": "execute_result"
    }
   ],
   "source": [
    "#checking correlation between baseline_create_date document_create_date.1 document_create_date\n",
    "col1=data[\"baseline_create_date\"].astype(int)\n",
    "col2=data[\"document_create_date.1\"]\n",
    "col3=data[\"document_create_date\"]\n",
    "col1.corr(col2)#almost similar data"
   ]
  },
  {
   "cell_type": "code",
   "execution_count": 10,
   "id": "16f340f9",
   "metadata": {},
   "outputs": [
    {
     "data": {
      "text/plain": [
       "0.9934558274446471"
      ]
     },
     "execution_count": 10,
     "metadata": {},
     "output_type": "execute_result"
    }
   ],
   "source": [
    "col2.corr(col3)#slight difference thus will considered the normalised date"
   ]
  },
  {
   "cell_type": "code",
   "execution_count": 11,
   "id": "ca51f2a1",
   "metadata": {},
   "outputs": [],
   "source": [
    "#dropping baseline_create_date and document_create_date\n",
    "data.drop(['document_create_date', 'baseline_create_date'], axis=1, inplace=True)"
   ]
  },
  {
   "cell_type": "code",
   "execution_count": 12,
   "id": "237937f9",
   "metadata": {},
   "outputs": [
    {
     "data": {
      "text/plain": [
       "(48776, 16)"
      ]
     },
     "execution_count": 12,
     "metadata": {},
     "output_type": "execute_result"
    }
   ],
   "source": [
    "data.shape"
   ]
  },
  {
   "cell_type": "code",
   "execution_count": 13,
   "id": "0a91c3ce",
   "metadata": {},
   "outputs": [
    {
     "data": {
      "text/plain": [
       "True     48775\n",
       "False        1\n",
       "dtype: int64"
      ]
     },
     "execution_count": 13,
     "metadata": {},
     "output_type": "execute_result"
    }
   ],
   "source": [
    "(data['doc_id'] == data['invoice_id']).value_counts()"
   ]
  },
  {
   "cell_type": "code",
   "execution_count": 14,
   "id": "1e1863cf",
   "metadata": {},
   "outputs": [
    {
     "data": {
      "text/html": [
       "<div>\n",
       "<style scoped>\n",
       "    .dataframe tbody tr th:only-of-type {\n",
       "        vertical-align: middle;\n",
       "    }\n",
       "\n",
       "    .dataframe tbody tr th {\n",
       "        vertical-align: top;\n",
       "    }\n",
       "\n",
       "    .dataframe thead th {\n",
       "        text-align: right;\n",
       "    }\n",
       "</style>\n",
       "<table border=\"1\" class=\"dataframe\">\n",
       "  <thead>\n",
       "    <tr style=\"text-align: right;\">\n",
       "      <th></th>\n",
       "      <th>business_code</th>\n",
       "      <th>cust_number</th>\n",
       "      <th>name_customer</th>\n",
       "      <th>clear_date</th>\n",
       "      <th>buisness_year</th>\n",
       "      <th>doc_id</th>\n",
       "      <th>posting_date</th>\n",
       "      <th>document_create_date.1</th>\n",
       "      <th>due_in_date</th>\n",
       "      <th>invoice_currency</th>\n",
       "      <th>document type</th>\n",
       "      <th>posting_id</th>\n",
       "      <th>total_open_amount</th>\n",
       "      <th>cust_payment_terms</th>\n",
       "      <th>invoice_id</th>\n",
       "      <th>isOpen</th>\n",
       "    </tr>\n",
       "  </thead>\n",
       "  <tbody>\n",
       "    <tr>\n",
       "      <th>13670</th>\n",
       "      <td>CA02</td>\n",
       "      <td>0140104225</td>\n",
       "      <td>SAVE-ON- systems</td>\n",
       "      <td>2019-05-08 00:00:00</td>\n",
       "      <td>2019.0</td>\n",
       "      <td>9.500000e+09</td>\n",
       "      <td>2019-03-29</td>\n",
       "      <td>20190306</td>\n",
       "      <td>20190316.0</td>\n",
       "      <td>CAD</td>\n",
       "      <td>X2</td>\n",
       "      <td>1.0</td>\n",
       "      <td>6636.96</td>\n",
       "      <td>CA10</td>\n",
       "      <td>NaN</td>\n",
       "      <td>0</td>\n",
       "    </tr>\n",
       "  </tbody>\n",
       "</table>\n",
       "</div>"
      ],
      "text/plain": [
       "      business_code cust_number     name_customer           clear_date  \\\n",
       "13670          CA02  0140104225  SAVE-ON- systems  2019-05-08 00:00:00   \n",
       "\n",
       "       buisness_year        doc_id posting_date  document_create_date.1  \\\n",
       "13670         2019.0  9.500000e+09   2019-03-29                20190306   \n",
       "\n",
       "       due_in_date invoice_currency document type  posting_id  \\\n",
       "13670   20190316.0              CAD            X2         1.0   \n",
       "\n",
       "       total_open_amount cust_payment_terms  invoice_id  isOpen  \n",
       "13670            6636.96               CA10         NaN       0  "
      ]
     },
     "execution_count": 14,
     "metadata": {},
     "output_type": "execute_result"
    }
   ],
   "source": [
    "data.loc[(data['doc_id']!= data['invoice_id'])]"
   ]
  },
  {
   "cell_type": "code",
   "execution_count": 15,
   "id": "786e0158",
   "metadata": {},
   "outputs": [],
   "source": [
    "#dropping invoice_id\n",
    "data.drop('invoice_id', axis=1, inplace=True)"
   ]
  },
  {
   "cell_type": "code",
   "execution_count": 16,
   "id": "f628e12f",
   "metadata": {},
   "outputs": [
    {
     "data": {
      "text/plain": [
       "business_code                 6\n",
       "cust_number                1429\n",
       "name_customer              4194\n",
       "clear_date                  400\n",
       "buisness_year                 2\n",
       "doc_id                    48776\n",
       "posting_date                506\n",
       "document_create_date.1      506\n",
       "due_in_date                 546\n",
       "invoice_currency              2\n",
       "document type                 2\n",
       "posting_id                    1\n",
       "total_open_amount         44178\n",
       "cust_payment_terms           73\n",
       "isOpen                        2\n",
       "dtype: int64"
      ]
     },
     "execution_count": 16,
     "metadata": {},
     "output_type": "execute_result"
    }
   ],
   "source": [
    "data.nunique()#unique values"
   ]
  },
  {
   "cell_type": "code",
   "execution_count": 17,
   "id": "d601c5be",
   "metadata": {},
   "outputs": [],
   "source": [
    "data.drop('posting_id', axis=1, inplace=True)#drop column with single data through-out"
   ]
  },
  {
   "cell_type": "code",
   "execution_count": 18,
   "id": "23efd1b5",
   "metadata": {},
   "outputs": [
    {
     "data": {
      "text/plain": [
       "dtype('float64')"
      ]
     },
     "execution_count": 18,
     "metadata": {},
     "output_type": "execute_result"
    }
   ],
   "source": [
    "#coverting due_in_date, posting_date and clear_date to datetime \n",
    "data['due_in_date'].dtypes"
   ]
  },
  {
   "cell_type": "code",
   "execution_count": 19,
   "id": "1a27ec14",
   "metadata": {},
   "outputs": [],
   "source": [
    "data['due_in_date']=data['due_in_date'].astype(int)"
   ]
  },
  {
   "cell_type": "code",
   "execution_count": 20,
   "id": "c52f5dd2",
   "metadata": {},
   "outputs": [],
   "source": [
    "data['due_in_date']=data['due_in_date'].astype(str)"
   ]
  },
  {
   "cell_type": "code",
   "execution_count": 21,
   "id": "f41b1125",
   "metadata": {},
   "outputs": [],
   "source": [
    "data['due_in_date']=pd.to_datetime(data['due_in_date'])"
   ]
  },
  {
   "cell_type": "code",
   "execution_count": 22,
   "id": "e577ce1f",
   "metadata": {},
   "outputs": [],
   "source": [
    "data['clear_date']=pd.to_datetime(data['clear_date'])\n",
    "data['posting_date']=pd.to_datetime(data['posting_date'])"
   ]
  },
  {
   "cell_type": "code",
   "execution_count": 23,
   "id": "b42e9e30",
   "metadata": {},
   "outputs": [
    {
     "data": {
      "text/html": [
       "<div>\n",
       "<style scoped>\n",
       "    .dataframe tbody tr th:only-of-type {\n",
       "        vertical-align: middle;\n",
       "    }\n",
       "\n",
       "    .dataframe tbody tr th {\n",
       "        vertical-align: top;\n",
       "    }\n",
       "\n",
       "    .dataframe thead th {\n",
       "        text-align: right;\n",
       "    }\n",
       "</style>\n",
       "<table border=\"1\" class=\"dataframe\">\n",
       "  <thead>\n",
       "    <tr style=\"text-align: right;\">\n",
       "      <th></th>\n",
       "      <th>business_code</th>\n",
       "      <th>cust_number</th>\n",
       "      <th>name_customer</th>\n",
       "      <th>clear_date</th>\n",
       "      <th>buisness_year</th>\n",
       "      <th>doc_id</th>\n",
       "      <th>posting_date</th>\n",
       "      <th>document_create_date.1</th>\n",
       "      <th>due_in_date</th>\n",
       "      <th>invoice_currency</th>\n",
       "      <th>document type</th>\n",
       "      <th>total_open_amount</th>\n",
       "      <th>cust_payment_terms</th>\n",
       "      <th>isOpen</th>\n",
       "    </tr>\n",
       "  </thead>\n",
       "  <tbody>\n",
       "    <tr>\n",
       "      <th>0</th>\n",
       "      <td>U001</td>\n",
       "      <td>200785971</td>\n",
       "      <td>SYSCO  foundation</td>\n",
       "      <td>2019-07-18</td>\n",
       "      <td>2019.0</td>\n",
       "      <td>1.929571e+09</td>\n",
       "      <td>2019-07-02</td>\n",
       "      <td>20190702</td>\n",
       "      <td>2019-07-17</td>\n",
       "      <td>USD</td>\n",
       "      <td>RV</td>\n",
       "      <td>19922.82</td>\n",
       "      <td>NAA8</td>\n",
       "      <td>0</td>\n",
       "    </tr>\n",
       "    <tr>\n",
       "      <th>1</th>\n",
       "      <td>U001</td>\n",
       "      <td>0200743123</td>\n",
       "      <td>KROGER in</td>\n",
       "      <td>2019-11-15</td>\n",
       "      <td>2019.0</td>\n",
       "      <td>1.930078e+09</td>\n",
       "      <td>2019-10-31</td>\n",
       "      <td>20191031</td>\n",
       "      <td>2019-11-15</td>\n",
       "      <td>USD</td>\n",
       "      <td>RV</td>\n",
       "      <td>38332.25</td>\n",
       "      <td>NAA8</td>\n",
       "      <td>0</td>\n",
       "    </tr>\n",
       "    <tr>\n",
       "      <th>2</th>\n",
       "      <td>U001</td>\n",
       "      <td>0200772595</td>\n",
       "      <td>SAFEW corporation</td>\n",
       "      <td>NaT</td>\n",
       "      <td>2020.0</td>\n",
       "      <td>1.930704e+09</td>\n",
       "      <td>2020-03-25</td>\n",
       "      <td>20200325</td>\n",
       "      <td>2020-04-09</td>\n",
       "      <td>USD</td>\n",
       "      <td>RV</td>\n",
       "      <td>73080.87</td>\n",
       "      <td>NAA8</td>\n",
       "      <td>1</td>\n",
       "    </tr>\n",
       "    <tr>\n",
       "      <th>3</th>\n",
       "      <td>U001</td>\n",
       "      <td>0200769623</td>\n",
       "      <td>WAL-MAR us</td>\n",
       "      <td>2019-04-30</td>\n",
       "      <td>2019.0</td>\n",
       "      <td>1.929168e+09</td>\n",
       "      <td>2019-04-19</td>\n",
       "      <td>20190419</td>\n",
       "      <td>2019-05-04</td>\n",
       "      <td>USD</td>\n",
       "      <td>RV</td>\n",
       "      <td>25054.82</td>\n",
       "      <td>NAH4</td>\n",
       "      <td>0</td>\n",
       "    </tr>\n",
       "    <tr>\n",
       "      <th>4</th>\n",
       "      <td>U001</td>\n",
       "      <td>0200726979</td>\n",
       "      <td>BJ'S  corp</td>\n",
       "      <td>2020-02-18</td>\n",
       "      <td>2020.0</td>\n",
       "      <td>1.930470e+09</td>\n",
       "      <td>2020-02-03</td>\n",
       "      <td>20200203</td>\n",
       "      <td>2020-02-18</td>\n",
       "      <td>USD</td>\n",
       "      <td>RV</td>\n",
       "      <td>63.48</td>\n",
       "      <td>NAA8</td>\n",
       "      <td>0</td>\n",
       "    </tr>\n",
       "  </tbody>\n",
       "</table>\n",
       "</div>"
      ],
      "text/plain": [
       "  business_code cust_number      name_customer clear_date  buisness_year  \\\n",
       "0          U001   200785971  SYSCO  foundation 2019-07-18         2019.0   \n",
       "1          U001  0200743123          KROGER in 2019-11-15         2019.0   \n",
       "2          U001  0200772595  SAFEW corporation        NaT         2020.0   \n",
       "3          U001  0200769623         WAL-MAR us 2019-04-30         2019.0   \n",
       "4          U001  0200726979         BJ'S  corp 2020-02-18         2020.0   \n",
       "\n",
       "         doc_id posting_date  document_create_date.1 due_in_date  \\\n",
       "0  1.929571e+09   2019-07-02                20190702  2019-07-17   \n",
       "1  1.930078e+09   2019-10-31                20191031  2019-11-15   \n",
       "2  1.930704e+09   2020-03-25                20200325  2020-04-09   \n",
       "3  1.929168e+09   2019-04-19                20190419  2019-05-04   \n",
       "4  1.930470e+09   2020-02-03                20200203  2020-02-18   \n",
       "\n",
       "  invoice_currency document type  total_open_amount cust_payment_terms  isOpen  \n",
       "0              USD            RV           19922.82               NAA8       0  \n",
       "1              USD            RV           38332.25               NAA8       0  \n",
       "2              USD            RV           73080.87               NAA8       1  \n",
       "3              USD            RV           25054.82               NAH4       0  \n",
       "4              USD            RV              63.48               NAA8       0  "
      ]
     },
     "execution_count": 23,
     "metadata": {},
     "output_type": "execute_result"
    }
   ],
   "source": [
    "data.head()"
   ]
  },
  {
   "cell_type": "code",
   "execution_count": 24,
   "id": "e243d203",
   "metadata": {},
   "outputs": [
    {
     "data": {
      "text/plain": [
       "2"
      ]
     },
     "execution_count": 24,
     "metadata": {},
     "output_type": "execute_result"
    }
   ],
   "source": [
    "data['isOpen'].nunique()"
   ]
  },
  {
   "cell_type": "markdown",
   "id": "0487ee0b",
   "metadata": {},
   "source": [
    "#### Target column"
   ]
  },
  {
   "cell_type": "code",
   "execution_count": 25,
   "id": "7bc690f4",
   "metadata": {},
   "outputs": [],
   "source": [
    "#days in between clear_date and due_in_date = no. of days in delay\n",
    "#data['target']=data['clear_date'].sub(data['due_in_date'],axis=0) => in timedelta form \n",
    "data['target']=data['clear_date']-data['due_in_date'] \n",
    "data['target']=data['target'].dt.days #in float form \n",
    "data['target']=data['target'].fillna(0)\n",
    "data['target']=data['target'].astype(int) #in int form"
   ]
  },
  {
   "cell_type": "code",
   "execution_count": 26,
   "id": "79a9b139",
   "metadata": {},
   "outputs": [],
   "source": [
    "#business year to int\n",
    "data['buisness_year']=data['buisness_year'].astype(int)"
   ]
  },
  {
   "cell_type": "code",
   "execution_count": 27,
   "id": "00f7d226",
   "metadata": {},
   "outputs": [],
   "source": [
    "#sorting dataframe on basis of posting_date in ascending order\n",
    "data.sort_values(by='posting_date', ascending = True, inplace= True)"
   ]
  },
  {
   "cell_type": "code",
   "execution_count": 28,
   "id": "f6fdcfef",
   "metadata": {},
   "outputs": [],
   "source": [
    "data0=data#with missing data rows in clear_date col\n",
    "data.dropna(subset=['clear_date'],how='any', inplace=True)#deleting missing data in clear_date"
   ]
  },
  {
   "cell_type": "code",
   "execution_count": 29,
   "id": "5d44c1ef",
   "metadata": {},
   "outputs": [
    {
     "data": {
      "text/plain": [
       "1"
      ]
     },
     "execution_count": 29,
     "metadata": {},
     "output_type": "execute_result"
    }
   ],
   "source": [
    "data['isOpen'].nunique()"
   ]
  },
  {
   "cell_type": "code",
   "execution_count": 30,
   "id": "4b2f8198",
   "metadata": {},
   "outputs": [],
   "source": [
    "#deleting isOpen col because of constant value\n",
    "data.drop('isOpen', axis=1, inplace=True)"
   ]
  },
  {
   "cell_type": "code",
   "execution_count": 31,
   "id": "83b80c06",
   "metadata": {},
   "outputs": [],
   "source": [
    "if 'USD' in data['invoice_currency'].values :\n",
    "    data['total_open_amount'] = data['total_open_amount'].apply(lambda x: x*0.81)\n",
    "    \n",
    "#converting CAD into USD with the value 1 CAD = 0.81 USD"
   ]
  },
  {
   "cell_type": "code",
   "execution_count": 32,
   "id": "02de606b",
   "metadata": {},
   "outputs": [
    {
     "data": {
      "text/html": [
       "<div>\n",
       "<style scoped>\n",
       "    .dataframe tbody tr th:only-of-type {\n",
       "        vertical-align: middle;\n",
       "    }\n",
       "\n",
       "    .dataframe tbody tr th {\n",
       "        vertical-align: top;\n",
       "    }\n",
       "\n",
       "    .dataframe thead th {\n",
       "        text-align: right;\n",
       "    }\n",
       "</style>\n",
       "<table border=\"1\" class=\"dataframe\">\n",
       "  <thead>\n",
       "    <tr style=\"text-align: right;\">\n",
       "      <th></th>\n",
       "      <th>business_code</th>\n",
       "      <th>cust_number</th>\n",
       "      <th>name_customer</th>\n",
       "      <th>clear_date</th>\n",
       "      <th>buisness_year</th>\n",
       "      <th>doc_id</th>\n",
       "      <th>posting_date</th>\n",
       "      <th>document_create_date.1</th>\n",
       "      <th>due_in_date</th>\n",
       "      <th>invoice_currency</th>\n",
       "      <th>document type</th>\n",
       "      <th>total_open_amount</th>\n",
       "      <th>cust_payment_terms</th>\n",
       "      <th>target</th>\n",
       "    </tr>\n",
       "  </thead>\n",
       "  <tbody>\n",
       "    <tr>\n",
       "      <th>42970</th>\n",
       "      <td>CA02</td>\n",
       "      <td>0140106408</td>\n",
       "      <td>WAL-M in</td>\n",
       "      <td>2019-01-25</td>\n",
       "      <td>2019</td>\n",
       "      <td>2.960520e+09</td>\n",
       "      <td>2018-12-30</td>\n",
       "      <td>20181230</td>\n",
       "      <td>2019-01-09</td>\n",
       "      <td>CAD</td>\n",
       "      <td>RV</td>\n",
       "      <td>1638.8892</td>\n",
       "      <td>CA10</td>\n",
       "      <td>16</td>\n",
       "    </tr>\n",
       "    <tr>\n",
       "      <th>10239</th>\n",
       "      <td>CA02</td>\n",
       "      <td>0140104423</td>\n",
       "      <td>METRO  foundation</td>\n",
       "      <td>2019-01-15</td>\n",
       "      <td>2019</td>\n",
       "      <td>2.960519e+09</td>\n",
       "      <td>2018-12-31</td>\n",
       "      <td>20181231</td>\n",
       "      <td>2019-01-12</td>\n",
       "      <td>CAD</td>\n",
       "      <td>RV</td>\n",
       "      <td>62538.9984</td>\n",
       "      <td>CA10</td>\n",
       "      <td>3</td>\n",
       "    </tr>\n",
       "    <tr>\n",
       "      <th>16262</th>\n",
       "      <td>CA02</td>\n",
       "      <td>0140104423</td>\n",
       "      <td>METRO  llc</td>\n",
       "      <td>2019-01-15</td>\n",
       "      <td>2019</td>\n",
       "      <td>2.960520e+09</td>\n",
       "      <td>2018-12-31</td>\n",
       "      <td>20181231</td>\n",
       "      <td>2019-01-14</td>\n",
       "      <td>CAD</td>\n",
       "      <td>RV</td>\n",
       "      <td>63821.5119</td>\n",
       "      <td>CA10</td>\n",
       "      <td>1</td>\n",
       "    </tr>\n",
       "    <tr>\n",
       "      <th>28197</th>\n",
       "      <td>CA02</td>\n",
       "      <td>0140104429</td>\n",
       "      <td>COSTCO foundation</td>\n",
       "      <td>2019-01-18</td>\n",
       "      <td>2019</td>\n",
       "      <td>2.960520e+09</td>\n",
       "      <td>2018-12-31</td>\n",
       "      <td>20181231</td>\n",
       "      <td>2019-01-19</td>\n",
       "      <td>CAD</td>\n",
       "      <td>RV</td>\n",
       "      <td>7239.9258</td>\n",
       "      <td>CA10</td>\n",
       "      <td>-1</td>\n",
       "    </tr>\n",
       "    <tr>\n",
       "      <th>28430</th>\n",
       "      <td>CA02</td>\n",
       "      <td>0140104429</td>\n",
       "      <td>COSTCO trust</td>\n",
       "      <td>2019-01-18</td>\n",
       "      <td>2019</td>\n",
       "      <td>2.960520e+09</td>\n",
       "      <td>2018-12-31</td>\n",
       "      <td>20181231</td>\n",
       "      <td>2019-01-13</td>\n",
       "      <td>CAD</td>\n",
       "      <td>RV</td>\n",
       "      <td>825.8274</td>\n",
       "      <td>CA10</td>\n",
       "      <td>5</td>\n",
       "    </tr>\n",
       "    <tr>\n",
       "      <th>...</th>\n",
       "      <td>...</td>\n",
       "      <td>...</td>\n",
       "      <td>...</td>\n",
       "      <td>...</td>\n",
       "      <td>...</td>\n",
       "      <td>...</td>\n",
       "      <td>...</td>\n",
       "      <td>...</td>\n",
       "      <td>...</td>\n",
       "      <td>...</td>\n",
       "      <td>...</td>\n",
       "      <td>...</td>\n",
       "      <td>...</td>\n",
       "      <td>...</td>\n",
       "    </tr>\n",
       "    <tr>\n",
       "      <th>29210</th>\n",
       "      <td>CA02</td>\n",
       "      <td>0140105686</td>\n",
       "      <td>SYSC co</td>\n",
       "      <td>2020-03-19</td>\n",
       "      <td>2020</td>\n",
       "      <td>2.960616e+09</td>\n",
       "      <td>2020-02-26</td>\n",
       "      <td>20200226</td>\n",
       "      <td>2020-03-15</td>\n",
       "      <td>CAD</td>\n",
       "      <td>RV</td>\n",
       "      <td>1977.4125</td>\n",
       "      <td>CA10</td>\n",
       "      <td>4</td>\n",
       "    </tr>\n",
       "    <tr>\n",
       "      <th>28861</th>\n",
       "      <td>CA02</td>\n",
       "      <td>0140105686</td>\n",
       "      <td>SYSC co</td>\n",
       "      <td>2020-03-19</td>\n",
       "      <td>2020</td>\n",
       "      <td>2.960617e+09</td>\n",
       "      <td>2020-02-26</td>\n",
       "      <td>20200226</td>\n",
       "      <td>2020-03-15</td>\n",
       "      <td>CAD</td>\n",
       "      <td>RV</td>\n",
       "      <td>32143.4568</td>\n",
       "      <td>CA10</td>\n",
       "      <td>4</td>\n",
       "    </tr>\n",
       "    <tr>\n",
       "      <th>3594</th>\n",
       "      <td>CA02</td>\n",
       "      <td>0140104429</td>\n",
       "      <td>COSTCO in</td>\n",
       "      <td>2020-03-23</td>\n",
       "      <td>2020</td>\n",
       "      <td>2.960617e+09</td>\n",
       "      <td>2020-02-26</td>\n",
       "      <td>20200226</td>\n",
       "      <td>2020-03-07</td>\n",
       "      <td>CAD</td>\n",
       "      <td>RV</td>\n",
       "      <td>32561.9433</td>\n",
       "      <td>CA10</td>\n",
       "      <td>16</td>\n",
       "    </tr>\n",
       "    <tr>\n",
       "      <th>255</th>\n",
       "      <td>CA02</td>\n",
       "      <td>0140106408</td>\n",
       "      <td>WAL-M systems</td>\n",
       "      <td>2020-03-16</td>\n",
       "      <td>2020</td>\n",
       "      <td>2.960614e+09</td>\n",
       "      <td>2020-02-27</td>\n",
       "      <td>20200227</td>\n",
       "      <td>2020-03-10</td>\n",
       "      <td>CAD</td>\n",
       "      <td>RV</td>\n",
       "      <td>46716.1344</td>\n",
       "      <td>CA10</td>\n",
       "      <td>6</td>\n",
       "    </tr>\n",
       "    <tr>\n",
       "      <th>10288</th>\n",
       "      <td>CA02</td>\n",
       "      <td>0140104950</td>\n",
       "      <td>MULT corporation</td>\n",
       "      <td>2020-03-09</td>\n",
       "      <td>2020</td>\n",
       "      <td>2.960617e+09</td>\n",
       "      <td>2020-02-27</td>\n",
       "      <td>20200227</td>\n",
       "      <td>2020-03-10</td>\n",
       "      <td>CAD</td>\n",
       "      <td>RV</td>\n",
       "      <td>14417.0604</td>\n",
       "      <td>CA10</td>\n",
       "      <td>-1</td>\n",
       "    </tr>\n",
       "  </tbody>\n",
       "</table>\n",
       "<p>3109 rows × 14 columns</p>\n",
       "</div>"
      ],
      "text/plain": [
       "      business_code cust_number      name_customer clear_date  buisness_year  \\\n",
       "42970          CA02  0140106408           WAL-M in 2019-01-25           2019   \n",
       "10239          CA02  0140104423  METRO  foundation 2019-01-15           2019   \n",
       "16262          CA02  0140104423         METRO  llc 2019-01-15           2019   \n",
       "28197          CA02  0140104429  COSTCO foundation 2019-01-18           2019   \n",
       "28430          CA02  0140104429       COSTCO trust 2019-01-18           2019   \n",
       "...             ...         ...                ...        ...            ...   \n",
       "29210          CA02  0140105686            SYSC co 2020-03-19           2020   \n",
       "28861          CA02  0140105686            SYSC co 2020-03-19           2020   \n",
       "3594           CA02  0140104429          COSTCO in 2020-03-23           2020   \n",
       "255            CA02  0140106408      WAL-M systems 2020-03-16           2020   \n",
       "10288          CA02  0140104950   MULT corporation 2020-03-09           2020   \n",
       "\n",
       "             doc_id posting_date  document_create_date.1 due_in_date  \\\n",
       "42970  2.960520e+09   2018-12-30                20181230  2019-01-09   \n",
       "10239  2.960519e+09   2018-12-31                20181231  2019-01-12   \n",
       "16262  2.960520e+09   2018-12-31                20181231  2019-01-14   \n",
       "28197  2.960520e+09   2018-12-31                20181231  2019-01-19   \n",
       "28430  2.960520e+09   2018-12-31                20181231  2019-01-13   \n",
       "...             ...          ...                     ...         ...   \n",
       "29210  2.960616e+09   2020-02-26                20200226  2020-03-15   \n",
       "28861  2.960617e+09   2020-02-26                20200226  2020-03-15   \n",
       "3594   2.960617e+09   2020-02-26                20200226  2020-03-07   \n",
       "255    2.960614e+09   2020-02-27                20200227  2020-03-10   \n",
       "10288  2.960617e+09   2020-02-27                20200227  2020-03-10   \n",
       "\n",
       "      invoice_currency document type  total_open_amount cust_payment_terms  \\\n",
       "42970              CAD            RV          1638.8892               CA10   \n",
       "10239              CAD            RV         62538.9984               CA10   \n",
       "16262              CAD            RV         63821.5119               CA10   \n",
       "28197              CAD            RV          7239.9258               CA10   \n",
       "28430              CAD            RV           825.8274               CA10   \n",
       "...                ...           ...                ...                ...   \n",
       "29210              CAD            RV          1977.4125               CA10   \n",
       "28861              CAD            RV         32143.4568               CA10   \n",
       "3594               CAD            RV         32561.9433               CA10   \n",
       "255                CAD            RV         46716.1344               CA10   \n",
       "10288              CAD            RV         14417.0604               CA10   \n",
       "\n",
       "       target  \n",
       "42970      16  \n",
       "10239       3  \n",
       "16262       1  \n",
       "28197      -1  \n",
       "28430       5  \n",
       "...       ...  \n",
       "29210       4  \n",
       "28861       4  \n",
       "3594       16  \n",
       "255         6  \n",
       "10288      -1  \n",
       "\n",
       "[3109 rows x 14 columns]"
      ]
     },
     "execution_count": 32,
     "metadata": {},
     "output_type": "execute_result"
    }
   ],
   "source": [
    "data[data['invoice_currency']!='USD']"
   ]
  },
  {
   "cell_type": "code",
   "execution_count": 33,
   "id": "64bd54bf",
   "metadata": {},
   "outputs": [],
   "source": [
    "#droping invoice_currency col as all amounts are in USD\n",
    "data.drop('invoice_currency', axis=1, inplace=True)"
   ]
  },
  {
   "cell_type": "code",
   "execution_count": 34,
   "id": "16b54f36",
   "metadata": {},
   "outputs": [
    {
     "data": {
      "text/html": [
       "<div>\n",
       "<style scoped>\n",
       "    .dataframe tbody tr th:only-of-type {\n",
       "        vertical-align: middle;\n",
       "    }\n",
       "\n",
       "    .dataframe tbody tr th {\n",
       "        vertical-align: top;\n",
       "    }\n",
       "\n",
       "    .dataframe thead th {\n",
       "        text-align: right;\n",
       "    }\n",
       "</style>\n",
       "<table border=\"1\" class=\"dataframe\">\n",
       "  <thead>\n",
       "    <tr style=\"text-align: right;\">\n",
       "      <th></th>\n",
       "      <th>business_code</th>\n",
       "      <th>cust_number</th>\n",
       "      <th>name_customer</th>\n",
       "      <th>clear_date</th>\n",
       "      <th>buisness_year</th>\n",
       "      <th>doc_id</th>\n",
       "      <th>posting_date</th>\n",
       "      <th>document_create_date.1</th>\n",
       "      <th>due_in_date</th>\n",
       "      <th>document type</th>\n",
       "      <th>total_open_amount</th>\n",
       "      <th>cust_payment_terms</th>\n",
       "      <th>target</th>\n",
       "    </tr>\n",
       "  </thead>\n",
       "  <tbody>\n",
       "    <tr>\n",
       "      <th>13670</th>\n",
       "      <td>CA02</td>\n",
       "      <td>0140104225</td>\n",
       "      <td>SAVE-ON- systems</td>\n",
       "      <td>2019-05-08</td>\n",
       "      <td>2019</td>\n",
       "      <td>9.500000e+09</td>\n",
       "      <td>2019-03-29</td>\n",
       "      <td>20190306</td>\n",
       "      <td>2019-03-16</td>\n",
       "      <td>X2</td>\n",
       "      <td>5375.9376</td>\n",
       "      <td>CA10</td>\n",
       "      <td>53</td>\n",
       "    </tr>\n",
       "  </tbody>\n",
       "</table>\n",
       "</div>"
      ],
      "text/plain": [
       "      business_code cust_number     name_customer clear_date  buisness_year  \\\n",
       "13670          CA02  0140104225  SAVE-ON- systems 2019-05-08           2019   \n",
       "\n",
       "             doc_id posting_date  document_create_date.1 due_in_date  \\\n",
       "13670  9.500000e+09   2019-03-29                20190306  2019-03-16   \n",
       "\n",
       "      document type  total_open_amount cust_payment_terms  target  \n",
       "13670            X2          5375.9376               CA10      53  "
      ]
     },
     "execution_count": 34,
     "metadata": {},
     "output_type": "execute_result"
    }
   ],
   "source": [
    "data.loc[(data['document type']!= 'RV')]"
   ]
  },
  {
   "cell_type": "code",
   "execution_count": 35,
   "id": "12ec8e7a",
   "metadata": {},
   "outputs": [],
   "source": [
    "if 'RV' in data['document type'].values :\n",
    "    data['document type'] = 1\n",
    "else:\n",
    "    data['document type'] = 2\n",
    "#RV=> 1\n",
    "#X2=> 2\n",
    "#manual encoding "
   ]
  },
  {
   "cell_type": "code",
   "execution_count": 36,
   "id": "957e0484",
   "metadata": {},
   "outputs": [
    {
     "data": {
      "text/plain": [
       "(39082, 13)"
      ]
     },
     "execution_count": 36,
     "metadata": {},
     "output_type": "execute_result"
    }
   ],
   "source": [
    "data.shape"
   ]
  },
  {
   "cell_type": "markdown",
   "id": "b195d20d",
   "metadata": {},
   "source": [
    "#### extracting date, month and year from clear_date, posting_date and due_in_date "
   ]
  },
  {
   "cell_type": "code",
   "execution_count": 37,
   "id": "69537dfe",
   "metadata": {},
   "outputs": [],
   "source": [
    "data['posting_year'] = pd.DatetimeIndex(data['posting_date']).year\n",
    "data['due_year'] = pd.DatetimeIndex(data['due_in_date']).year\n",
    "data['clear_year'] = pd.DatetimeIndex(data['clear_date']).year"
   ]
  },
  {
   "cell_type": "code",
   "execution_count": 38,
   "id": "0c4c758b",
   "metadata": {},
   "outputs": [],
   "source": [
    "data['posting_month'] = pd.DatetimeIndex(data['posting_date']).month\n",
    "data['due_month'] = pd.DatetimeIndex(data['due_in_date']).month\n",
    "data['clear_month'] = pd.DatetimeIndex(data['clear_date']).month"
   ]
  },
  {
   "cell_type": "code",
   "execution_count": 39,
   "id": "2e337752",
   "metadata": {},
   "outputs": [],
   "source": [
    "data['posting_day'] =data['posting_date'].dt.day\n",
    "data['due_day'] =data['due_in_date'].dt.day\n",
    "data['clear_day'] =data['clear_date'].dt.day"
   ]
  },
  {
   "cell_type": "code",
   "execution_count": 40,
   "id": "29c020ff",
   "metadata": {},
   "outputs": [
    {
     "data": {
      "text/html": [
       "<div>\n",
       "<style scoped>\n",
       "    .dataframe tbody tr th:only-of-type {\n",
       "        vertical-align: middle;\n",
       "    }\n",
       "\n",
       "    .dataframe tbody tr th {\n",
       "        vertical-align: top;\n",
       "    }\n",
       "\n",
       "    .dataframe thead th {\n",
       "        text-align: right;\n",
       "    }\n",
       "</style>\n",
       "<table border=\"1\" class=\"dataframe\">\n",
       "  <thead>\n",
       "    <tr style=\"text-align: right;\">\n",
       "      <th></th>\n",
       "      <th>business_code</th>\n",
       "      <th>cust_number</th>\n",
       "      <th>name_customer</th>\n",
       "      <th>clear_date</th>\n",
       "      <th>buisness_year</th>\n",
       "      <th>doc_id</th>\n",
       "      <th>posting_date</th>\n",
       "      <th>document_create_date.1</th>\n",
       "      <th>due_in_date</th>\n",
       "      <th>document type</th>\n",
       "      <th>...</th>\n",
       "      <th>target</th>\n",
       "      <th>posting_year</th>\n",
       "      <th>due_year</th>\n",
       "      <th>clear_year</th>\n",
       "      <th>posting_month</th>\n",
       "      <th>due_month</th>\n",
       "      <th>clear_month</th>\n",
       "      <th>posting_day</th>\n",
       "      <th>due_day</th>\n",
       "      <th>clear_day</th>\n",
       "    </tr>\n",
       "  </thead>\n",
       "  <tbody>\n",
       "    <tr>\n",
       "      <th>19014</th>\n",
       "      <td>U001</td>\n",
       "      <td>0200706844</td>\n",
       "      <td>WINC corporation</td>\n",
       "      <td>2019-01-14</td>\n",
       "      <td>2019</td>\n",
       "      <td>1.928543e+09</td>\n",
       "      <td>2018-12-30</td>\n",
       "      <td>20181230</td>\n",
       "      <td>2019-01-14</td>\n",
       "      <td>1</td>\n",
       "      <td>...</td>\n",
       "      <td>0</td>\n",
       "      <td>2018</td>\n",
       "      <td>2019</td>\n",
       "      <td>2019</td>\n",
       "      <td>12</td>\n",
       "      <td>1</td>\n",
       "      <td>1</td>\n",
       "      <td>30</td>\n",
       "      <td>14</td>\n",
       "      <td>14</td>\n",
       "    </tr>\n",
       "    <tr>\n",
       "      <th>41980</th>\n",
       "      <td>U001</td>\n",
       "      <td>0200769623</td>\n",
       "      <td>WAL-MAR systems</td>\n",
       "      <td>2019-01-09</td>\n",
       "      <td>2019</td>\n",
       "      <td>1.928544e+09</td>\n",
       "      <td>2018-12-30</td>\n",
       "      <td>20181230</td>\n",
       "      <td>2019-01-14</td>\n",
       "      <td>1</td>\n",
       "      <td>...</td>\n",
       "      <td>-5</td>\n",
       "      <td>2018</td>\n",
       "      <td>2019</td>\n",
       "      <td>2019</td>\n",
       "      <td>12</td>\n",
       "      <td>1</td>\n",
       "      <td>1</td>\n",
       "      <td>30</td>\n",
       "      <td>14</td>\n",
       "      <td>9</td>\n",
       "    </tr>\n",
       "    <tr>\n",
       "      <th>40830</th>\n",
       "      <td>U001</td>\n",
       "      <td>0200771157</td>\n",
       "      <td>WEIS</td>\n",
       "      <td>2019-01-18</td>\n",
       "      <td>2019</td>\n",
       "      <td>1.928538e+09</td>\n",
       "      <td>2018-12-30</td>\n",
       "      <td>20181230</td>\n",
       "      <td>2019-01-14</td>\n",
       "      <td>1</td>\n",
       "      <td>...</td>\n",
       "      <td>4</td>\n",
       "      <td>2018</td>\n",
       "      <td>2019</td>\n",
       "      <td>2019</td>\n",
       "      <td>12</td>\n",
       "      <td>1</td>\n",
       "      <td>1</td>\n",
       "      <td>30</td>\n",
       "      <td>14</td>\n",
       "      <td>18</td>\n",
       "    </tr>\n",
       "    <tr>\n",
       "      <th>43090</th>\n",
       "      <td>U001</td>\n",
       "      <td>0200780849</td>\n",
       "      <td>LAUREL llc</td>\n",
       "      <td>2019-01-14</td>\n",
       "      <td>2019</td>\n",
       "      <td>1.928544e+09</td>\n",
       "      <td>2018-12-30</td>\n",
       "      <td>20181230</td>\n",
       "      <td>2019-01-14</td>\n",
       "      <td>1</td>\n",
       "      <td>...</td>\n",
       "      <td>0</td>\n",
       "      <td>2018</td>\n",
       "      <td>2019</td>\n",
       "      <td>2019</td>\n",
       "      <td>12</td>\n",
       "      <td>1</td>\n",
       "      <td>1</td>\n",
       "      <td>30</td>\n",
       "      <td>14</td>\n",
       "      <td>14</td>\n",
       "    </tr>\n",
       "    <tr>\n",
       "      <th>44689</th>\n",
       "      <td>U001</td>\n",
       "      <td>CCU013</td>\n",
       "      <td>KRAFT F corporation</td>\n",
       "      <td>2019-03-01</td>\n",
       "      <td>2019</td>\n",
       "      <td>1.928517e+09</td>\n",
       "      <td>2018-12-30</td>\n",
       "      <td>20181230</td>\n",
       "      <td>2018-12-30</td>\n",
       "      <td>1</td>\n",
       "      <td>...</td>\n",
       "      <td>61</td>\n",
       "      <td>2018</td>\n",
       "      <td>2018</td>\n",
       "      <td>2019</td>\n",
       "      <td>12</td>\n",
       "      <td>12</td>\n",
       "      <td>3</td>\n",
       "      <td>30</td>\n",
       "      <td>30</td>\n",
       "      <td>1</td>\n",
       "    </tr>\n",
       "    <tr>\n",
       "      <th>...</th>\n",
       "      <td>...</td>\n",
       "      <td>...</td>\n",
       "      <td>...</td>\n",
       "      <td>...</td>\n",
       "      <td>...</td>\n",
       "      <td>...</td>\n",
       "      <td>...</td>\n",
       "      <td>...</td>\n",
       "      <td>...</td>\n",
       "      <td>...</td>\n",
       "      <td>...</td>\n",
       "      <td>...</td>\n",
       "      <td>...</td>\n",
       "      <td>...</td>\n",
       "      <td>...</td>\n",
       "      <td>...</td>\n",
       "      <td>...</td>\n",
       "      <td>...</td>\n",
       "      <td>...</td>\n",
       "      <td>...</td>\n",
       "      <td>...</td>\n",
       "    </tr>\n",
       "    <tr>\n",
       "      <th>28199</th>\n",
       "      <td>U001</td>\n",
       "      <td>0200759878</td>\n",
       "      <td>SA co</td>\n",
       "      <td>2020-03-13</td>\n",
       "      <td>2020</td>\n",
       "      <td>1.930574e+09</td>\n",
       "      <td>2020-02-27</td>\n",
       "      <td>20200227</td>\n",
       "      <td>2020-03-13</td>\n",
       "      <td>1</td>\n",
       "      <td>...</td>\n",
       "      <td>0</td>\n",
       "      <td>2020</td>\n",
       "      <td>2020</td>\n",
       "      <td>2020</td>\n",
       "      <td>2</td>\n",
       "      <td>3</td>\n",
       "      <td>3</td>\n",
       "      <td>27</td>\n",
       "      <td>13</td>\n",
       "      <td>13</td>\n",
       "    </tr>\n",
       "    <tr>\n",
       "      <th>39288</th>\n",
       "      <td>U001</td>\n",
       "      <td>0200794332</td>\n",
       "      <td>COST trust</td>\n",
       "      <td>2020-03-12</td>\n",
       "      <td>2020</td>\n",
       "      <td>1.930577e+09</td>\n",
       "      <td>2020-02-27</td>\n",
       "      <td>20200227</td>\n",
       "      <td>2020-03-13</td>\n",
       "      <td>1</td>\n",
       "      <td>...</td>\n",
       "      <td>-1</td>\n",
       "      <td>2020</td>\n",
       "      <td>2020</td>\n",
       "      <td>2020</td>\n",
       "      <td>2</td>\n",
       "      <td>3</td>\n",
       "      <td>3</td>\n",
       "      <td>27</td>\n",
       "      <td>13</td>\n",
       "      <td>12</td>\n",
       "    </tr>\n",
       "    <tr>\n",
       "      <th>44982</th>\n",
       "      <td>U001</td>\n",
       "      <td>0200759878</td>\n",
       "      <td>SA systems</td>\n",
       "      <td>2020-03-13</td>\n",
       "      <td>2020</td>\n",
       "      <td>1.930570e+09</td>\n",
       "      <td>2020-02-27</td>\n",
       "      <td>20200227</td>\n",
       "      <td>2020-03-13</td>\n",
       "      <td>1</td>\n",
       "      <td>...</td>\n",
       "      <td>0</td>\n",
       "      <td>2020</td>\n",
       "      <td>2020</td>\n",
       "      <td>2020</td>\n",
       "      <td>2</td>\n",
       "      <td>3</td>\n",
       "      <td>3</td>\n",
       "      <td>27</td>\n",
       "      <td>13</td>\n",
       "      <td>13</td>\n",
       "    </tr>\n",
       "    <tr>\n",
       "      <th>10288</th>\n",
       "      <td>CA02</td>\n",
       "      <td>0140104950</td>\n",
       "      <td>MULT corporation</td>\n",
       "      <td>2020-03-09</td>\n",
       "      <td>2020</td>\n",
       "      <td>2.960617e+09</td>\n",
       "      <td>2020-02-27</td>\n",
       "      <td>20200227</td>\n",
       "      <td>2020-03-10</td>\n",
       "      <td>1</td>\n",
       "      <td>...</td>\n",
       "      <td>-1</td>\n",
       "      <td>2020</td>\n",
       "      <td>2020</td>\n",
       "      <td>2020</td>\n",
       "      <td>2</td>\n",
       "      <td>3</td>\n",
       "      <td>3</td>\n",
       "      <td>27</td>\n",
       "      <td>10</td>\n",
       "      <td>9</td>\n",
       "    </tr>\n",
       "    <tr>\n",
       "      <th>45914</th>\n",
       "      <td>U001</td>\n",
       "      <td>0200759878</td>\n",
       "      <td>SA systems</td>\n",
       "      <td>2020-03-13</td>\n",
       "      <td>2020</td>\n",
       "      <td>1.930574e+09</td>\n",
       "      <td>2020-02-27</td>\n",
       "      <td>20200227</td>\n",
       "      <td>2020-03-13</td>\n",
       "      <td>1</td>\n",
       "      <td>...</td>\n",
       "      <td>0</td>\n",
       "      <td>2020</td>\n",
       "      <td>2020</td>\n",
       "      <td>2020</td>\n",
       "      <td>2</td>\n",
       "      <td>3</td>\n",
       "      <td>3</td>\n",
       "      <td>27</td>\n",
       "      <td>13</td>\n",
       "      <td>13</td>\n",
       "    </tr>\n",
       "  </tbody>\n",
       "</table>\n",
       "<p>39082 rows × 22 columns</p>\n",
       "</div>"
      ],
      "text/plain": [
       "      business_code cust_number        name_customer clear_date  \\\n",
       "19014          U001  0200706844     WINC corporation 2019-01-14   \n",
       "41980          U001  0200769623      WAL-MAR systems 2019-01-09   \n",
       "40830          U001  0200771157                WEIS  2019-01-18   \n",
       "43090          U001  0200780849           LAUREL llc 2019-01-14   \n",
       "44689          U001      CCU013  KRAFT F corporation 2019-03-01   \n",
       "...             ...         ...                  ...        ...   \n",
       "28199          U001  0200759878                SA co 2020-03-13   \n",
       "39288          U001  0200794332           COST trust 2020-03-12   \n",
       "44982          U001  0200759878           SA systems 2020-03-13   \n",
       "10288          CA02  0140104950     MULT corporation 2020-03-09   \n",
       "45914          U001  0200759878           SA systems 2020-03-13   \n",
       "\n",
       "       buisness_year        doc_id posting_date  document_create_date.1  \\\n",
       "19014           2019  1.928543e+09   2018-12-30                20181230   \n",
       "41980           2019  1.928544e+09   2018-12-30                20181230   \n",
       "40830           2019  1.928538e+09   2018-12-30                20181230   \n",
       "43090           2019  1.928544e+09   2018-12-30                20181230   \n",
       "44689           2019  1.928517e+09   2018-12-30                20181230   \n",
       "...              ...           ...          ...                     ...   \n",
       "28199           2020  1.930574e+09   2020-02-27                20200227   \n",
       "39288           2020  1.930577e+09   2020-02-27                20200227   \n",
       "44982           2020  1.930570e+09   2020-02-27                20200227   \n",
       "10288           2020  2.960617e+09   2020-02-27                20200227   \n",
       "45914           2020  1.930574e+09   2020-02-27                20200227   \n",
       "\n",
       "      due_in_date  document type  ...  target posting_year  due_year  \\\n",
       "19014  2019-01-14              1  ...       0         2018      2019   \n",
       "41980  2019-01-14              1  ...      -5         2018      2019   \n",
       "40830  2019-01-14              1  ...       4         2018      2019   \n",
       "43090  2019-01-14              1  ...       0         2018      2019   \n",
       "44689  2018-12-30              1  ...      61         2018      2018   \n",
       "...           ...            ...  ...     ...          ...       ...   \n",
       "28199  2020-03-13              1  ...       0         2020      2020   \n",
       "39288  2020-03-13              1  ...      -1         2020      2020   \n",
       "44982  2020-03-13              1  ...       0         2020      2020   \n",
       "10288  2020-03-10              1  ...      -1         2020      2020   \n",
       "45914  2020-03-13              1  ...       0         2020      2020   \n",
       "\n",
       "       clear_year  posting_month  due_month  clear_month  posting_day  \\\n",
       "19014        2019             12          1            1           30   \n",
       "41980        2019             12          1            1           30   \n",
       "40830        2019             12          1            1           30   \n",
       "43090        2019             12          1            1           30   \n",
       "44689        2019             12         12            3           30   \n",
       "...           ...            ...        ...          ...          ...   \n",
       "28199        2020              2          3            3           27   \n",
       "39288        2020              2          3            3           27   \n",
       "44982        2020              2          3            3           27   \n",
       "10288        2020              2          3            3           27   \n",
       "45914        2020              2          3            3           27   \n",
       "\n",
       "       due_day  clear_day  \n",
       "19014       14         14  \n",
       "41980       14          9  \n",
       "40830       14         18  \n",
       "43090       14         14  \n",
       "44689       30          1  \n",
       "...        ...        ...  \n",
       "28199       13         13  \n",
       "39288       13         12  \n",
       "44982       13         13  \n",
       "10288       10          9  \n",
       "45914       13         13  \n",
       "\n",
       "[39082 rows x 22 columns]"
      ]
     },
     "execution_count": 40,
     "metadata": {},
     "output_type": "execute_result"
    }
   ],
   "source": [
    "data"
   ]
  },
  {
   "cell_type": "markdown",
   "id": "7e31dabb",
   "metadata": {},
   "source": [
    "### Outliers "
   ]
  },
  {
   "cell_type": "code",
   "execution_count": 41,
   "id": "6260952a",
   "metadata": {},
   "outputs": [
    {
     "data": {
      "text/plain": [
       "count    39082.000000\n",
       "mean         0.879587\n",
       "std         10.792043\n",
       "min        -98.000000\n",
       "25%         -3.000000\n",
       "50%          0.000000\n",
       "75%          2.000000\n",
       "max        171.000000\n",
       "Name: target, dtype: float64"
      ]
     },
     "execution_count": 41,
     "metadata": {},
     "output_type": "execute_result"
    }
   ],
   "source": [
    "#plotting and dealing with the outliner\n",
    "data['target'].describe()"
   ]
  },
  {
   "cell_type": "code",
   "execution_count": 42,
   "id": "c21e1934",
   "metadata": {},
   "outputs": [
    {
     "data": {
      "text/plain": [
       "<AxesSubplot:xlabel='target'>"
      ]
     },
     "execution_count": 42,
     "metadata": {},
     "output_type": "execute_result"
    },
    {
     "data": {
      "image/png": "[encoded data removed]",
      "text/plain": [
       "<Figure size 1440x360 with 1 Axes>"
      ]
     },
     "metadata": {
      "needs_background": "light"
     },
     "output_type": "display_data"
    }
   ],
   "source": [
    "plt.subplots(figsize=(20,5))\n",
    "sns.boxplot(data['target'])"
   ]
  },
  {
   "cell_type": "code",
   "execution_count": 43,
   "id": "b52b1c58",
   "metadata": {},
   "outputs": [],
   "source": [
    "# Creating a function for outliers\n",
    "def fun(a):\n",
    "    q1=a.quantile(0.25)\n",
    "    q3=a.quantile(0.75)\n",
    "    iqr=q3-q1\n",
    "    low=q1-(1.5*iqr)\n",
    "    high=q3+(1.5*iqr)\n",
    "    a[a<low]=q1\n",
    "    a[a>high]=q3\n",
    "    return a"
   ]
  },
  {
   "cell_type": "code",
   "execution_count": 44,
   "id": "b703b4c0",
   "metadata": {},
   "outputs": [
    {
     "data": {
      "text/plain": [
       "19014    0\n",
       "41980   -5\n",
       "40830    4\n",
       "43090    0\n",
       "44689    2\n",
       "        ..\n",
       "28199    0\n",
       "39288   -1\n",
       "44982    0\n",
       "10288   -1\n",
       "45914    0\n",
       "Name: target, Length: 39082, dtype: int32"
      ]
     },
     "execution_count": 44,
     "metadata": {},
     "output_type": "execute_result"
    }
   ],
   "source": [
    "fun(data['target'])"
   ]
  },
  {
   "cell_type": "code",
   "execution_count": 45,
   "id": "2c0ed2c1",
   "metadata": {},
   "outputs": [
    {
     "data": {
      "text/plain": [
       "count    39082.000000\n",
       "mean        -0.230925\n",
       "std          3.246391\n",
       "min        -10.000000\n",
       "25%         -3.000000\n",
       "50%          0.000000\n",
       "75%          2.000000\n",
       "max          9.000000\n",
       "Name: target, dtype: float64"
      ]
     },
     "execution_count": 45,
     "metadata": {},
     "output_type": "execute_result"
    }
   ],
   "source": [
    "data['target'].describe()"
   ]
  },
  {
   "cell_type": "markdown",
   "id": "90103923",
   "metadata": {},
   "source": [
    "## splitting"
   ]
  },
  {
   "cell_type": "code",
   "execution_count": 46,
   "id": "893b73f7",
   "metadata": {},
   "outputs": [],
   "source": [
    "train_size=0.8 #dividing 80:10:10 for train:valid:test\n",
    "x = data.drop(columns = ['target']).copy() #remaining dataframe\n",
    "y = data['target'] \n",
    "#splitting into training and remaining (80/20)\n",
    "x_train, x_rest, y_train, y_rest = train_test_split(x,y, train_size=0.8)\n",
    "#splitting into valid and test (50/50) from remaining (20=>10/10)\n",
    "test_size = 0.5\n",
    "x_valid, x_test, y_valid, y_test = train_test_split(x_rest,y_rest, test_size=0.5)"
   ]
  },
  {
   "cell_type": "code",
   "execution_count": 47,
   "id": "a54a68bc",
   "metadata": {},
   "outputs": [
    {
     "name": "stdout",
     "output_type": "stream",
     "text": [
      "(31265, 21)\n",
      "(31265,)\n",
      "(3908, 21)\n",
      "(3908,)\n",
      "(3909, 21)\n",
      "(3909,)\n"
     ]
    },
    {
     "data": {
      "text/plain": [
       "(None, None)"
      ]
     },
     "execution_count": 47,
     "metadata": {},
     "output_type": "execute_result"
    }
   ],
   "source": [
    "print(x_train.shape), print(y_train.shape) #80%\n",
    "print(x_valid.shape), print(y_valid.shape) #10%\n",
    "print(x_test.shape), print(y_test.shape) #10%"
   ]
  },
  {
   "cell_type": "markdown",
   "id": "674c16ce",
   "metadata": {},
   "source": [
    "## EDA"
   ]
  },
  {
   "cell_type": "code",
   "execution_count": 48,
   "id": "483785ca",
   "metadata": {},
   "outputs": [],
   "source": [
    "import seaborn as sns"
   ]
  },
  {
   "cell_type": "code",
   "execution_count": 49,
   "id": "cd44cb99",
   "metadata": {},
   "outputs": [
    {
     "data": {
      "text/html": [
       "<div>\n",
       "<style scoped>\n",
       "    .dataframe tbody tr th:only-of-type {\n",
       "        vertical-align: middle;\n",
       "    }\n",
       "\n",
       "    .dataframe tbody tr th {\n",
       "        vertical-align: top;\n",
       "    }\n",
       "\n",
       "    .dataframe thead th {\n",
       "        text-align: right;\n",
       "    }\n",
       "</style>\n",
       "<table border=\"1\" class=\"dataframe\">\n",
       "  <thead>\n",
       "    <tr style=\"text-align: right;\">\n",
       "      <th></th>\n",
       "      <th>buisness_year</th>\n",
       "      <th>doc_id</th>\n",
       "      <th>document_create_date.1</th>\n",
       "      <th>document type</th>\n",
       "      <th>total_open_amount</th>\n",
       "      <th>target</th>\n",
       "      <th>posting_year</th>\n",
       "      <th>due_year</th>\n",
       "      <th>clear_year</th>\n",
       "      <th>posting_month</th>\n",
       "      <th>due_month</th>\n",
       "      <th>clear_month</th>\n",
       "      <th>posting_day</th>\n",
       "      <th>due_day</th>\n",
       "      <th>clear_day</th>\n",
       "    </tr>\n",
       "  </thead>\n",
       "  <tbody>\n",
       "    <tr>\n",
       "      <th>count</th>\n",
       "      <td>39082.000000</td>\n",
       "      <td>3.908200e+04</td>\n",
       "      <td>3.908200e+04</td>\n",
       "      <td>39082.0</td>\n",
       "      <td>39082.000000</td>\n",
       "      <td>39082.000000</td>\n",
       "      <td>39082.000000</td>\n",
       "      <td>39082.000000</td>\n",
       "      <td>39082.000000</td>\n",
       "      <td>39082.000000</td>\n",
       "      <td>39082.000000</td>\n",
       "      <td>39082.000000</td>\n",
       "      <td>39082.000000</td>\n",
       "      <td>39082.000000</td>\n",
       "      <td>39082.000000</td>\n",
       "    </tr>\n",
       "    <tr>\n",
       "      <th>mean</th>\n",
       "      <td>2019.135715</td>\n",
       "      <td>2.012777e+09</td>\n",
       "      <td>2.019186e+07</td>\n",
       "      <td>1.0</td>\n",
       "      <td>26095.842908</td>\n",
       "      <td>-0.230925</td>\n",
       "      <td>2019.127143</td>\n",
       "      <td>2019.140397</td>\n",
       "      <td>2019.135715</td>\n",
       "      <td>5.708050</td>\n",
       "      <td>6.108874</td>\n",
       "      <td>6.191802</td>\n",
       "      <td>15.666778</td>\n",
       "      <td>15.910061</td>\n",
       "      <td>15.987437</td>\n",
       "    </tr>\n",
       "    <tr>\n",
       "      <th>std</th>\n",
       "      <td>0.342490</td>\n",
       "      <td>2.813156e+08</td>\n",
       "      <td>3.263773e+03</td>\n",
       "      <td>0.0</td>\n",
       "      <td>32261.701569</td>\n",
       "      <td>3.246391</td>\n",
       "      <td>0.341632</td>\n",
       "      <td>0.347845</td>\n",
       "      <td>0.342490</td>\n",
       "      <td>3.505598</td>\n",
       "      <td>3.475060</td>\n",
       "      <td>3.486016</td>\n",
       "      <td>8.760732</td>\n",
       "      <td>8.717051</td>\n",
       "      <td>8.916540</td>\n",
       "    </tr>\n",
       "    <tr>\n",
       "      <th>min</th>\n",
       "      <td>2019.000000</td>\n",
       "      <td>1.928488e+09</td>\n",
       "      <td>2.018123e+07</td>\n",
       "      <td>1.0</td>\n",
       "      <td>1.142100</td>\n",
       "      <td>-10.000000</td>\n",
       "      <td>2018.000000</td>\n",
       "      <td>2018.000000</td>\n",
       "      <td>2019.000000</td>\n",
       "      <td>1.000000</td>\n",
       "      <td>1.000000</td>\n",
       "      <td>1.000000</td>\n",
       "      <td>1.000000</td>\n",
       "      <td>1.000000</td>\n",
       "      <td>1.000000</td>\n",
       "    </tr>\n",
       "    <tr>\n",
       "      <th>25%</th>\n",
       "      <td>2019.000000</td>\n",
       "      <td>1.929179e+09</td>\n",
       "      <td>2.019041e+07</td>\n",
       "      <td>1.0</td>\n",
       "      <td>3761.154000</td>\n",
       "      <td>-3.000000</td>\n",
       "      <td>2019.000000</td>\n",
       "      <td>2019.000000</td>\n",
       "      <td>2019.000000</td>\n",
       "      <td>2.000000</td>\n",
       "      <td>3.000000</td>\n",
       "      <td>3.000000</td>\n",
       "      <td>8.000000</td>\n",
       "      <td>8.000000</td>\n",
       "      <td>8.000000</td>\n",
       "    </tr>\n",
       "    <tr>\n",
       "      <th>50%</th>\n",
       "      <td>2019.000000</td>\n",
       "      <td>1.929732e+09</td>\n",
       "      <td>2.019072e+07</td>\n",
       "      <td>1.0</td>\n",
       "      <td>14030.876700</td>\n",
       "      <td>0.000000</td>\n",
       "      <td>2019.000000</td>\n",
       "      <td>2019.000000</td>\n",
       "      <td>2019.000000</td>\n",
       "      <td>5.000000</td>\n",
       "      <td>6.000000</td>\n",
       "      <td>6.000000</td>\n",
       "      <td>16.000000</td>\n",
       "      <td>16.000000</td>\n",
       "      <td>16.000000</td>\n",
       "    </tr>\n",
       "    <tr>\n",
       "      <th>75%</th>\n",
       "      <td>2019.000000</td>\n",
       "      <td>1.930212e+09</td>\n",
       "      <td>2.019103e+07</td>\n",
       "      <td>1.0</td>\n",
       "      <td>37506.845475</td>\n",
       "      <td>2.000000</td>\n",
       "      <td>2019.000000</td>\n",
       "      <td>2019.000000</td>\n",
       "      <td>2019.000000</td>\n",
       "      <td>9.000000</td>\n",
       "      <td>9.000000</td>\n",
       "      <td>9.000000</td>\n",
       "      <td>23.000000</td>\n",
       "      <td>24.000000</td>\n",
       "      <td>24.000000</td>\n",
       "    </tr>\n",
       "    <tr>\n",
       "      <th>max</th>\n",
       "      <td>2020.000000</td>\n",
       "      <td>9.500000e+09</td>\n",
       "      <td>2.020023e+07</td>\n",
       "      <td>1.0</td>\n",
       "      <td>497995.986600</td>\n",
       "      <td>9.000000</td>\n",
       "      <td>2020.000000</td>\n",
       "      <td>2020.000000</td>\n",
       "      <td>2020.000000</td>\n",
       "      <td>12.000000</td>\n",
       "      <td>12.000000</td>\n",
       "      <td>12.000000</td>\n",
       "      <td>31.000000</td>\n",
       "      <td>31.000000</td>\n",
       "      <td>31.000000</td>\n",
       "    </tr>\n",
       "  </tbody>\n",
       "</table>\n",
       "</div>"
      ],
      "text/plain": [
       "       buisness_year        doc_id  document_create_date.1  document type  \\\n",
       "count   39082.000000  3.908200e+04            3.908200e+04        39082.0   \n",
       "mean     2019.135715  2.012777e+09            2.019186e+07            1.0   \n",
       "std         0.342490  2.813156e+08            3.263773e+03            0.0   \n",
       "min      2019.000000  1.928488e+09            2.018123e+07            1.0   \n",
       "25%      2019.000000  1.929179e+09            2.019041e+07            1.0   \n",
       "50%      2019.000000  1.929732e+09            2.019072e+07            1.0   \n",
       "75%      2019.000000  1.930212e+09            2.019103e+07            1.0   \n",
       "max      2020.000000  9.500000e+09            2.020023e+07            1.0   \n",
       "\n",
       "       total_open_amount        target  posting_year      due_year  \\\n",
       "count       39082.000000  39082.000000  39082.000000  39082.000000   \n",
       "mean        26095.842908     -0.230925   2019.127143   2019.140397   \n",
       "std         32261.701569      3.246391      0.341632      0.347845   \n",
       "min             1.142100    -10.000000   2018.000000   2018.000000   \n",
       "25%          3761.154000     -3.000000   2019.000000   2019.000000   \n",
       "50%         14030.876700      0.000000   2019.000000   2019.000000   \n",
       "75%         37506.845475      2.000000   2019.000000   2019.000000   \n",
       "max        497995.986600      9.000000   2020.000000   2020.000000   \n",
       "\n",
       "         clear_year  posting_month     due_month   clear_month   posting_day  \\\n",
       "count  39082.000000   39082.000000  39082.000000  39082.000000  39082.000000   \n",
       "mean    2019.135715       5.708050      6.108874      6.191802     15.666778   \n",
       "std        0.342490       3.505598      3.475060      3.486016      8.760732   \n",
       "min     2019.000000       1.000000      1.000000      1.000000      1.000000   \n",
       "25%     2019.000000       2.000000      3.000000      3.000000      8.000000   \n",
       "50%     2019.000000       5.000000      6.000000      6.000000     16.000000   \n",
       "75%     2019.000000       9.000000      9.000000      9.000000     23.000000   \n",
       "max     2020.000000      12.000000     12.000000     12.000000     31.000000   \n",
       "\n",
       "            due_day     clear_day  \n",
       "count  39082.000000  39082.000000  \n",
       "mean      15.910061     15.987437  \n",
       "std        8.717051      8.916540  \n",
       "min        1.000000      1.000000  \n",
       "25%        8.000000      8.000000  \n",
       "50%       16.000000     16.000000  \n",
       "75%       24.000000     24.000000  \n",
       "max       31.000000     31.000000  "
      ]
     },
     "execution_count": 49,
     "metadata": {},
     "output_type": "execute_result"
    }
   ],
   "source": [
    "data.describe()"
   ]
  },
  {
   "cell_type": "code",
   "execution_count": 50,
   "id": "76118b5a",
   "metadata": {},
   "outputs": [
    {
     "data": {
      "text/plain": [
       "<AxesSubplot:xlabel='target', ylabel='Density'>"
      ]
     },
     "execution_count": 50,
     "metadata": {},
     "output_type": "execute_result"
    },
    {
     "data": {
      "image/png": "[encoded data removed]",
      "text/plain": [
       "<Figure size 432x288 with 1 Axes>"
      ]
     },
     "metadata": {
      "needs_background": "light"
     },
     "output_type": "display_data"
    }
   ],
   "source": [
    "sns.distplot(y_train)\n",
    "#no major skewness is observerd"
   ]
  },
  {
   "cell_type": "code",
   "execution_count": 51,
   "id": "2358c25d",
   "metadata": {},
   "outputs": [
    {
     "data": {
      "text/plain": [
       "<AxesSubplot:>"
      ]
     },
     "execution_count": 51,
     "metadata": {},
     "output_type": "execute_result"
    },
    {
     "data": {
      "image/png": "[encoded data removed]",
      "text/plain": [
       "<Figure size 1440x1080 with 2 Axes>"
      ]
     },
     "metadata": {
      "needs_background": "light"
     },
     "output_type": "display_data"
    }
   ],
   "source": [
    "plt.subplots(figsize=(20,15))\n",
    "sns.heatmap(data.corr(),annot=True,cmap='RdYlGn')\n",
    "# no prominent correlations except years"
   ]
  },
  {
   "cell_type": "code",
   "execution_count": 52,
   "id": "dc64b5e8",
   "metadata": {},
   "outputs": [
    {
     "data": {
      "text/plain": [
       "business_code                     object\n",
       "cust_number                       object\n",
       "name_customer                     object\n",
       "clear_date                datetime64[ns]\n",
       "buisness_year                      int32\n",
       "doc_id                           float64\n",
       "posting_date              datetime64[ns]\n",
       "document_create_date.1             int64\n",
       "due_in_date               datetime64[ns]\n",
       "document type                      int64\n",
       "total_open_amount                float64\n",
       "cust_payment_terms                object\n",
       "target                             int32\n",
       "posting_year                       int64\n",
       "due_year                           int64\n",
       "clear_year                         int64\n",
       "posting_month                      int64\n",
       "due_month                          int64\n",
       "clear_month                        int64\n",
       "posting_day                        int64\n",
       "due_day                            int64\n",
       "clear_day                          int64\n",
       "dtype: object"
      ]
     },
     "execution_count": 52,
     "metadata": {},
     "output_type": "execute_result"
    }
   ],
   "source": [
    "data.dtypes"
   ]
  },
  {
   "cell_type": "code",
   "execution_count": 53,
   "id": "514c7fdb",
   "metadata": {},
   "outputs": [
    {
     "data": {
      "image/png": "[encoded data removed]",
      "text/plain": [
       "<Figure size 432x288 with 1 Axes>"
      ]
     },
     "metadata": {
      "needs_background": "light"
     },
     "output_type": "display_data"
    }
   ],
   "source": [
    "data.plot.scatter(x = 'target', y = 'due_in_date', s = 1);"
   ]
  },
  {
   "cell_type": "code",
   "execution_count": 54,
   "id": "4abd8244",
   "metadata": {},
   "outputs": [
    {
     "data": {
      "text/plain": [
       "<AxesSubplot:xlabel='target', ylabel='due_in_date'>"
      ]
     },
     "execution_count": 54,
     "metadata": {},
     "output_type": "execute_result"
    },
    {
     "data": {
      "image/png": "[encoded data removed]",
      "text/plain": [
       "<Figure size 432x288 with 1 Axes>"
      ]
     },
     "metadata": {
      "needs_background": "light"
     },
     "output_type": "display_data"
    }
   ],
   "source": [
    "sns.scatterplot(data= x_train.merge(y_train,on = x_train.index), x=\"target\", y=\"due_in_date\")\n",
    "#random distribution of variable "
   ]
  },
  {
   "cell_type": "markdown",
   "id": "3a4a5d84",
   "metadata": {},
   "source": [
    "## Feature Engineering"
   ]
  },
  {
   "cell_type": "code",
   "execution_count": 55,
   "id": "32d71dba",
   "metadata": {},
   "outputs": [
    {
     "name": "stdout",
     "output_type": "stream",
     "text": [
      "<class 'pandas.core.frame.DataFrame'>\n",
      "Int64Index: 31265 entries, 48938 to 20249\n",
      "Data columns (total 21 columns):\n",
      " #   Column                  Non-Null Count  Dtype         \n",
      "---  ------                  --------------  -----         \n",
      " 0   business_code           31265 non-null  object        \n",
      " 1   cust_number             31265 non-null  object        \n",
      " 2   name_customer           31265 non-null  object        \n",
      " 3   clear_date              31265 non-null  datetime64[ns]\n",
      " 4   buisness_year           31265 non-null  int32         \n",
      " 5   doc_id                  31265 non-null  float64       \n",
      " 6   posting_date            31265 non-null  datetime64[ns]\n",
      " 7   document_create_date.1  31265 non-null  int64         \n",
      " 8   due_in_date             31265 non-null  datetime64[ns]\n",
      " 9   document type           31265 non-null  int64         \n",
      " 10  total_open_amount       31265 non-null  float64       \n",
      " 11  cust_payment_terms      31265 non-null  object        \n",
      " 12  posting_year            31265 non-null  int64         \n",
      " 13  due_year                31265 non-null  int64         \n",
      " 14  clear_year              31265 non-null  int64         \n",
      " 15  posting_month           31265 non-null  int64         \n",
      " 16  due_month               31265 non-null  int64         \n",
      " 17  clear_month             31265 non-null  int64         \n",
      " 18  posting_day             31265 non-null  int64         \n",
      " 19  due_day                 31265 non-null  int64         \n",
      " 20  clear_day               31265 non-null  int64         \n",
      "dtypes: datetime64[ns](3), float64(2), int32(1), int64(11), object(4)\n",
      "memory usage: 5.1+ MB\n"
     ]
    }
   ],
   "source": [
    "x_train.info()"
   ]
  },
  {
   "cell_type": "code",
   "execution_count": 56,
   "id": "4b6a97cb",
   "metadata": {},
   "outputs": [
    {
     "data": {
      "text/plain": [
       "business_code                 6\n",
       "cust_number                1251\n",
       "name_customer              3514\n",
       "clear_date                  395\n",
       "buisness_year                 2\n",
       "doc_id                    31265\n",
       "posting_date                423\n",
       "document_create_date.1      423\n",
       "due_in_date                 490\n",
       "document type                 1\n",
       "total_open_amount         28692\n",
       "cust_payment_terms           64\n",
       "posting_year                  3\n",
       "due_year                      3\n",
       "clear_year                    2\n",
       "posting_month                12\n",
       "due_month                    12\n",
       "clear_month                  12\n",
       "posting_day                  31\n",
       "due_day                      31\n",
       "clear_day                    31\n",
       "dtype: int64"
      ]
     },
     "execution_count": 56,
     "metadata": {},
     "output_type": "execute_result"
    }
   ],
   "source": [
    "x_train.nunique()"
   ]
  },
  {
   "cell_type": "code",
   "execution_count": 57,
   "id": "5b4b0918",
   "metadata": {},
   "outputs": [],
   "source": [
    "#dropping function \n",
    "def dropping(col , traindata= x_train, valdata= x_valid, testdata= x_test):\n",
    "    traindata.drop(col, axis=1, inplace=True)\n",
    "    valdata.drop(col, axis=1, inplace=True)\n",
    "    testdata.drop(col, axis=1, inplace=True)\n",
    "    return traindata,valdata,testdata"
   ]
  },
  {
   "cell_type": "code",
   "execution_count": 58,
   "id": "5b12ab15",
   "metadata": {},
   "outputs": [],
   "source": [
    "from sklearn.preprocessing import LabelEncoder\n",
    "#encoding business_code \n",
    "buss_code_encoder= LabelEncoder()\n",
    "buss_code_encoder.fit(x_train['business_code'])\n",
    "x_train['business_code_encoded']= buss_code_encoder.transform(x_train['business_code'])\n",
    "x_valid['business_code_encoded']= buss_code_encoder.transform(x_valid['business_code'])\n",
    "x_test['business_code_encoded']= buss_code_encoder.transform(x_test['business_code'])"
   ]
  },
  {
   "cell_type": "code",
   "execution_count": 59,
   "id": "721acccc",
   "metadata": {},
   "outputs": [],
   "source": [
    "x_train,x_valid,x_test =dropping(['business_code'])"
   ]
  },
  {
   "cell_type": "code",
   "execution_count": 60,
   "id": "65eef77c",
   "metadata": {},
   "outputs": [
    {
     "data": {
      "text/plain": [
       "6"
      ]
     },
     "execution_count": 60,
     "metadata": {},
     "output_type": "execute_result"
    }
   ],
   "source": [
    "x_train['business_code_encoded'].nunique()\n",
    "#still no hampering of data"
   ]
  },
  {
   "cell_type": "code",
   "execution_count": 61,
   "id": "cd21a495",
   "metadata": {},
   "outputs": [],
   "source": [
    "#encoding cust_number\n",
    "cust_no_encoder= LabelEncoder()\n",
    "cust_no_encoder.fit(x_train['cust_number'])\n",
    "x_train['cust_no_encoded']= cust_no_encoder.transform(x_train['cust_number'])\n",
    "#for new customers in validation set\n",
    "new_mem= set(x_valid['cust_number'])-set(cust_no_encoder.classes_)\n",
    "for i in new_mem:\n",
    "    cust_no_encoder.classes_ = np.append(cust_no_encoder.classes_, i)\n",
    "x_valid['cust_no_encoded']= cust_no_encoder.transform(x_valid['cust_number'])\n",
    "#for new customers in test set\n",
    "new_mem= set(x_test['cust_number'])-set(cust_no_encoder.classes_)\n",
    "for i in new_mem:\n",
    "    cust_no_encoder.classes_ = np.append(cust_no_encoder.classes_, i)\n",
    "x_test['cust_no_encoded']= cust_no_encoder.transform(x_test['cust_number'])"
   ]
  },
  {
   "cell_type": "code",
   "execution_count": 62,
   "id": "29b85de6",
   "metadata": {},
   "outputs": [],
   "source": [
    "x_train,x_valid,x_test =dropping(['cust_number'])"
   ]
  },
  {
   "cell_type": "code",
   "execution_count": 63,
   "id": "dc636ff1",
   "metadata": {},
   "outputs": [
    {
     "data": {
      "text/html": [
       "<div>\n",
       "<style scoped>\n",
       "    .dataframe tbody tr th:only-of-type {\n",
       "        vertical-align: middle;\n",
       "    }\n",
       "\n",
       "    .dataframe tbody tr th {\n",
       "        vertical-align: top;\n",
       "    }\n",
       "\n",
       "    .dataframe thead th {\n",
       "        text-align: right;\n",
       "    }\n",
       "</style>\n",
       "<table border=\"1\" class=\"dataframe\">\n",
       "  <thead>\n",
       "    <tr style=\"text-align: right;\">\n",
       "      <th></th>\n",
       "      <th>name_customer</th>\n",
       "      <th>clear_date</th>\n",
       "      <th>buisness_year</th>\n",
       "      <th>doc_id</th>\n",
       "      <th>posting_date</th>\n",
       "      <th>document_create_date.1</th>\n",
       "      <th>due_in_date</th>\n",
       "      <th>document type</th>\n",
       "      <th>total_open_amount</th>\n",
       "      <th>cust_payment_terms</th>\n",
       "      <th>...</th>\n",
       "      <th>due_year</th>\n",
       "      <th>clear_year</th>\n",
       "      <th>posting_month</th>\n",
       "      <th>due_month</th>\n",
       "      <th>clear_month</th>\n",
       "      <th>posting_day</th>\n",
       "      <th>due_day</th>\n",
       "      <th>clear_day</th>\n",
       "      <th>business_code_encoded</th>\n",
       "      <th>cust_no_encoded</th>\n",
       "    </tr>\n",
       "  </thead>\n",
       "  <tbody>\n",
       "    <tr>\n",
       "      <th>48938</th>\n",
       "      <td>WAL-MAR co</td>\n",
       "      <td>2019-03-19</td>\n",
       "      <td>2019</td>\n",
       "      <td>1.928917e+09</td>\n",
       "      <td>2019-03-08</td>\n",
       "      <td>20190308</td>\n",
       "      <td>2019-03-23</td>\n",
       "      <td>1</td>\n",
       "      <td>46145.9754</td>\n",
       "      <td>NAH4</td>\n",
       "      <td>...</td>\n",
       "      <td>2019</td>\n",
       "      <td>2019</td>\n",
       "      <td>3</td>\n",
       "      <td>3</td>\n",
       "      <td>3</td>\n",
       "      <td>8</td>\n",
       "      <td>23</td>\n",
       "      <td>19</td>\n",
       "      <td>1</td>\n",
       "      <td>758</td>\n",
       "    </tr>\n",
       "    <tr>\n",
       "      <th>8694</th>\n",
       "      <td>J  corporation</td>\n",
       "      <td>2019-07-18</td>\n",
       "      <td>2019</td>\n",
       "      <td>1.929549e+09</td>\n",
       "      <td>2019-07-03</td>\n",
       "      <td>20190703</td>\n",
       "      <td>2019-07-18</td>\n",
       "      <td>1</td>\n",
       "      <td>8829.2592</td>\n",
       "      <td>NAA8</td>\n",
       "      <td>...</td>\n",
       "      <td>2019</td>\n",
       "      <td>2019</td>\n",
       "      <td>7</td>\n",
       "      <td>7</td>\n",
       "      <td>7</td>\n",
       "      <td>3</td>\n",
       "      <td>18</td>\n",
       "      <td>18</td>\n",
       "      <td>1</td>\n",
       "      <td>1192</td>\n",
       "    </tr>\n",
       "    <tr>\n",
       "      <th>38561</th>\n",
       "      <td>PUBLI systems</td>\n",
       "      <td>2020-01-29</td>\n",
       "      <td>2020</td>\n",
       "      <td>1.930396e+09</td>\n",
       "      <td>2020-01-14</td>\n",
       "      <td>20200114</td>\n",
       "      <td>2020-01-29</td>\n",
       "      <td>1</td>\n",
       "      <td>543.0888</td>\n",
       "      <td>NAA8</td>\n",
       "      <td>...</td>\n",
       "      <td>2020</td>\n",
       "      <td>2020</td>\n",
       "      <td>1</td>\n",
       "      <td>1</td>\n",
       "      <td>1</td>\n",
       "      <td>14</td>\n",
       "      <td>29</td>\n",
       "      <td>29</td>\n",
       "      <td>1</td>\n",
       "      <td>625</td>\n",
       "    </tr>\n",
       "    <tr>\n",
       "      <th>43739</th>\n",
       "      <td>WAL-MAR llc</td>\n",
       "      <td>2019-12-24</td>\n",
       "      <td>2019</td>\n",
       "      <td>1.930257e+09</td>\n",
       "      <td>2019-12-12</td>\n",
       "      <td>20191212</td>\n",
       "      <td>2019-12-27</td>\n",
       "      <td>1</td>\n",
       "      <td>3482.7246</td>\n",
       "      <td>NAH4</td>\n",
       "      <td>...</td>\n",
       "      <td>2019</td>\n",
       "      <td>2019</td>\n",
       "      <td>12</td>\n",
       "      <td>12</td>\n",
       "      <td>12</td>\n",
       "      <td>12</td>\n",
       "      <td>27</td>\n",
       "      <td>24</td>\n",
       "      <td>1</td>\n",
       "      <td>758</td>\n",
       "    </tr>\n",
       "    <tr>\n",
       "      <th>13158</th>\n",
       "      <td>WAL-MAR foundation</td>\n",
       "      <td>2019-07-19</td>\n",
       "      <td>2019</td>\n",
       "      <td>1.929585e+09</td>\n",
       "      <td>2019-07-07</td>\n",
       "      <td>20190707</td>\n",
       "      <td>2019-07-22</td>\n",
       "      <td>1</td>\n",
       "      <td>21092.3028</td>\n",
       "      <td>NAH4</td>\n",
       "      <td>...</td>\n",
       "      <td>2019</td>\n",
       "      <td>2019</td>\n",
       "      <td>7</td>\n",
       "      <td>7</td>\n",
       "      <td>7</td>\n",
       "      <td>7</td>\n",
       "      <td>22</td>\n",
       "      <td>19</td>\n",
       "      <td>1</td>\n",
       "      <td>758</td>\n",
       "    </tr>\n",
       "    <tr>\n",
       "      <th>...</th>\n",
       "      <td>...</td>\n",
       "      <td>...</td>\n",
       "      <td>...</td>\n",
       "      <td>...</td>\n",
       "      <td>...</td>\n",
       "      <td>...</td>\n",
       "      <td>...</td>\n",
       "      <td>...</td>\n",
       "      <td>...</td>\n",
       "      <td>...</td>\n",
       "      <td>...</td>\n",
       "      <td>...</td>\n",
       "      <td>...</td>\n",
       "      <td>...</td>\n",
       "      <td>...</td>\n",
       "      <td>...</td>\n",
       "      <td>...</td>\n",
       "      <td>...</td>\n",
       "      <td>...</td>\n",
       "      <td>...</td>\n",
       "      <td>...</td>\n",
       "    </tr>\n",
       "    <tr>\n",
       "      <th>21207</th>\n",
       "      <td>WAL-MAR trust</td>\n",
       "      <td>2020-02-05</td>\n",
       "      <td>2020</td>\n",
       "      <td>1.930442e+09</td>\n",
       "      <td>2020-01-26</td>\n",
       "      <td>20200126</td>\n",
       "      <td>2020-02-10</td>\n",
       "      <td>1</td>\n",
       "      <td>56496.3174</td>\n",
       "      <td>NAH4</td>\n",
       "      <td>...</td>\n",
       "      <td>2020</td>\n",
       "      <td>2020</td>\n",
       "      <td>1</td>\n",
       "      <td>2</td>\n",
       "      <td>2</td>\n",
       "      <td>26</td>\n",
       "      <td>10</td>\n",
       "      <td>5</td>\n",
       "      <td>1</td>\n",
       "      <td>758</td>\n",
       "    </tr>\n",
       "    <tr>\n",
       "      <th>33664</th>\n",
       "      <td>DEC llc</td>\n",
       "      <td>2019-03-18</td>\n",
       "      <td>2019</td>\n",
       "      <td>1.928915e+09</td>\n",
       "      <td>2019-03-06</td>\n",
       "      <td>20190306</td>\n",
       "      <td>2019-03-24</td>\n",
       "      <td>1</td>\n",
       "      <td>25.5636</td>\n",
       "      <td>NAM4</td>\n",
       "      <td>...</td>\n",
       "      <td>2019</td>\n",
       "      <td>2019</td>\n",
       "      <td>3</td>\n",
       "      <td>3</td>\n",
       "      <td>3</td>\n",
       "      <td>6</td>\n",
       "      <td>24</td>\n",
       "      <td>18</td>\n",
       "      <td>1</td>\n",
       "      <td>505</td>\n",
       "    </tr>\n",
       "    <tr>\n",
       "      <th>5687</th>\n",
       "      <td>WAL-MAR corp</td>\n",
       "      <td>2019-02-07</td>\n",
       "      <td>2019</td>\n",
       "      <td>1.928698e+09</td>\n",
       "      <td>2019-01-28</td>\n",
       "      <td>20190128</td>\n",
       "      <td>2019-02-12</td>\n",
       "      <td>1</td>\n",
       "      <td>37168.6968</td>\n",
       "      <td>NAH4</td>\n",
       "      <td>...</td>\n",
       "      <td>2019</td>\n",
       "      <td>2019</td>\n",
       "      <td>1</td>\n",
       "      <td>2</td>\n",
       "      <td>2</td>\n",
       "      <td>28</td>\n",
       "      <td>12</td>\n",
       "      <td>7</td>\n",
       "      <td>1</td>\n",
       "      <td>758</td>\n",
       "    </tr>\n",
       "    <tr>\n",
       "      <th>44037</th>\n",
       "      <td>BI corp</td>\n",
       "      <td>2019-03-25</td>\n",
       "      <td>2019</td>\n",
       "      <td>1.928943e+09</td>\n",
       "      <td>2019-03-11</td>\n",
       "      <td>20190311</td>\n",
       "      <td>2019-03-26</td>\n",
       "      <td>1</td>\n",
       "      <td>7817.8932</td>\n",
       "      <td>NAA8</td>\n",
       "      <td>...</td>\n",
       "      <td>2019</td>\n",
       "      <td>2019</td>\n",
       "      <td>3</td>\n",
       "      <td>3</td>\n",
       "      <td>3</td>\n",
       "      <td>11</td>\n",
       "      <td>26</td>\n",
       "      <td>25</td>\n",
       "      <td>1</td>\n",
       "      <td>43</td>\n",
       "    </tr>\n",
       "    <tr>\n",
       "      <th>20249</th>\n",
       "      <td>BJ'S  associates</td>\n",
       "      <td>2019-01-28</td>\n",
       "      <td>2019</td>\n",
       "      <td>1.928610e+09</td>\n",
       "      <td>2019-01-11</td>\n",
       "      <td>20190111</td>\n",
       "      <td>2019-01-26</td>\n",
       "      <td>1</td>\n",
       "      <td>124.0434</td>\n",
       "      <td>NAA8</td>\n",
       "      <td>...</td>\n",
       "      <td>2019</td>\n",
       "      <td>2019</td>\n",
       "      <td>1</td>\n",
       "      <td>1</td>\n",
       "      <td>1</td>\n",
       "      <td>11</td>\n",
       "      <td>26</td>\n",
       "      <td>28</td>\n",
       "      <td>1</td>\n",
       "      <td>664</td>\n",
       "    </tr>\n",
       "  </tbody>\n",
       "</table>\n",
       "<p>31265 rows × 21 columns</p>\n",
       "</div>"
      ],
      "text/plain": [
       "            name_customer clear_date  buisness_year        doc_id  \\\n",
       "48938          WAL-MAR co 2019-03-19           2019  1.928917e+09   \n",
       "8694       J  corporation 2019-07-18           2019  1.929549e+09   \n",
       "38561       PUBLI systems 2020-01-29           2020  1.930396e+09   \n",
       "43739         WAL-MAR llc 2019-12-24           2019  1.930257e+09   \n",
       "13158  WAL-MAR foundation 2019-07-19           2019  1.929585e+09   \n",
       "...                   ...        ...            ...           ...   \n",
       "21207       WAL-MAR trust 2020-02-05           2020  1.930442e+09   \n",
       "33664             DEC llc 2019-03-18           2019  1.928915e+09   \n",
       "5687         WAL-MAR corp 2019-02-07           2019  1.928698e+09   \n",
       "44037             BI corp 2019-03-25           2019  1.928943e+09   \n",
       "20249    BJ'S  associates 2019-01-28           2019  1.928610e+09   \n",
       "\n",
       "      posting_date  document_create_date.1 due_in_date  document type  \\\n",
       "48938   2019-03-08                20190308  2019-03-23              1   \n",
       "8694    2019-07-03                20190703  2019-07-18              1   \n",
       "38561   2020-01-14                20200114  2020-01-29              1   \n",
       "43739   2019-12-12                20191212  2019-12-27              1   \n",
       "13158   2019-07-07                20190707  2019-07-22              1   \n",
       "...            ...                     ...         ...            ...   \n",
       "21207   2020-01-26                20200126  2020-02-10              1   \n",
       "33664   2019-03-06                20190306  2019-03-24              1   \n",
       "5687    2019-01-28                20190128  2019-02-12              1   \n",
       "44037   2019-03-11                20190311  2019-03-26              1   \n",
       "20249   2019-01-11                20190111  2019-01-26              1   \n",
       "\n",
       "       total_open_amount cust_payment_terms  ...  due_year  clear_year  \\\n",
       "48938         46145.9754               NAH4  ...      2019        2019   \n",
       "8694           8829.2592               NAA8  ...      2019        2019   \n",
       "38561           543.0888               NAA8  ...      2020        2020   \n",
       "43739          3482.7246               NAH4  ...      2019        2019   \n",
       "13158         21092.3028               NAH4  ...      2019        2019   \n",
       "...                  ...                ...  ...       ...         ...   \n",
       "21207         56496.3174               NAH4  ...      2020        2020   \n",
       "33664            25.5636               NAM4  ...      2019        2019   \n",
       "5687          37168.6968               NAH4  ...      2019        2019   \n",
       "44037          7817.8932               NAA8  ...      2019        2019   \n",
       "20249           124.0434               NAA8  ...      2019        2019   \n",
       "\n",
       "       posting_month  due_month  clear_month  posting_day  due_day  clear_day  \\\n",
       "48938              3          3            3            8       23         19   \n",
       "8694               7          7            7            3       18         18   \n",
       "38561              1          1            1           14       29         29   \n",
       "43739             12         12           12           12       27         24   \n",
       "13158              7          7            7            7       22         19   \n",
       "...              ...        ...          ...          ...      ...        ...   \n",
       "21207              1          2            2           26       10          5   \n",
       "33664              3          3            3            6       24         18   \n",
       "5687               1          2            2           28       12          7   \n",
       "44037              3          3            3           11       26         25   \n",
       "20249              1          1            1           11       26         28   \n",
       "\n",
       "       business_code_encoded  cust_no_encoded  \n",
       "48938                      1              758  \n",
       "8694                       1             1192  \n",
       "38561                      1              625  \n",
       "43739                      1              758  \n",
       "13158                      1              758  \n",
       "...                      ...              ...  \n",
       "21207                      1              758  \n",
       "33664                      1              505  \n",
       "5687                       1              758  \n",
       "44037                      1               43  \n",
       "20249                      1              664  \n",
       "\n",
       "[31265 rows x 21 columns]"
      ]
     },
     "execution_count": 63,
     "metadata": {},
     "output_type": "execute_result"
    }
   ],
   "source": [
    "x_train"
   ]
  },
  {
   "cell_type": "code",
   "execution_count": 64,
   "id": "9deeb236",
   "metadata": {},
   "outputs": [],
   "source": [
    "#encoding cust_payment_terms\n",
    "cust_payment_terms_encoder= LabelEncoder()\n",
    "cust_payment_terms_encoder.fit(x_train['cust_payment_terms'])\n",
    "x_train['cust_payment_terms_encoded']= cust_payment_terms_encoder.transform(x_train['cust_payment_terms'])\n",
    "#for new customers in validation set\n",
    "new_mem= set(x_valid['cust_payment_terms'])-set(cust_payment_terms_encoder.classes_)\n",
    "for i in new_mem:\n",
    "    cust_payment_terms_encoder.classes_ = np.append(cust_payment_terms_encoder.classes_, i)\n",
    "x_valid['cust_payment_terms_encoded']= cust_payment_terms_encoder.transform(x_valid['cust_payment_terms'])\n",
    "#for new customers in test set\n",
    "new_mem= set(x_test['cust_payment_terms'])-set(cust_payment_terms_encoder.classes_)\n",
    "for i in new_mem:\n",
    "    cust_payment_terms_encoder.classes_ = np.append(cust_payment_terms_encoder.classes_, i)\n",
    "x_test['cust_payment_terms_encoded']= cust_payment_terms_encoder.transform(x_test['cust_payment_terms'])"
   ]
  },
  {
   "cell_type": "code",
   "execution_count": 65,
   "id": "8a6efac4",
   "metadata": {},
   "outputs": [],
   "source": [
    "x_train,x_valid,x_test =dropping(['cust_payment_terms'])"
   ]
  },
  {
   "cell_type": "code",
   "execution_count": 66,
   "id": "8018a230",
   "metadata": {},
   "outputs": [],
   "source": [
    "#encoding document type\n",
    "#document_type_encoder= LabelEncoder()\n",
    "#document_type_encoder.fit(x_train['document type'])\n",
    "#x_train['document_type_encoded']= document_type_encoder.transform(x_train['document type'])\n",
    "#x_valid['document_type_encoded']= document_type_encoder.transform(x_valid['document type'])\n",
    "#x_test['document_type_encoded']= document_type_encoder.transform(x_test['document type'])"
   ]
  },
  {
   "cell_type": "code",
   "execution_count": 67,
   "id": "2e3da76a",
   "metadata": {},
   "outputs": [],
   "source": [
    "#x_train,x_valid,x_test =dropping(['document type'])"
   ]
  },
  {
   "cell_type": "code",
   "execution_count": 68,
   "id": "ffe0019b",
   "metadata": {},
   "outputs": [
    {
     "name": "stdout",
     "output_type": "stream",
     "text": [
      "<class 'pandas.core.frame.DataFrame'>\n",
      "Int64Index: 31265 entries, 48938 to 20249\n",
      "Data columns (total 21 columns):\n",
      " #   Column                      Non-Null Count  Dtype         \n",
      "---  ------                      --------------  -----         \n",
      " 0   name_customer               31265 non-null  object        \n",
      " 1   clear_date                  31265 non-null  datetime64[ns]\n",
      " 2   buisness_year               31265 non-null  int32         \n",
      " 3   doc_id                      31265 non-null  float64       \n",
      " 4   posting_date                31265 non-null  datetime64[ns]\n",
      " 5   document_create_date.1      31265 non-null  int64         \n",
      " 6   due_in_date                 31265 non-null  datetime64[ns]\n",
      " 7   document type               31265 non-null  int64         \n",
      " 8   total_open_amount           31265 non-null  float64       \n",
      " 9   posting_year                31265 non-null  int64         \n",
      " 10  due_year                    31265 non-null  int64         \n",
      " 11  clear_year                  31265 non-null  int64         \n",
      " 12  posting_month               31265 non-null  int64         \n",
      " 13  due_month                   31265 non-null  int64         \n",
      " 14  clear_month                 31265 non-null  int64         \n",
      " 15  posting_day                 31265 non-null  int64         \n",
      " 16  due_day                     31265 non-null  int64         \n",
      " 17  clear_day                   31265 non-null  int64         \n",
      " 18  business_code_encoded       31265 non-null  int32         \n",
      " 19  cust_no_encoded             31265 non-null  int32         \n",
      " 20  cust_payment_terms_encoded  31265 non-null  int32         \n",
      "dtypes: datetime64[ns](3), float64(2), int32(4), int64(11), object(1)\n",
      "memory usage: 4.8+ MB\n"
     ]
    }
   ],
   "source": [
    "x_train.info()"
   ]
  },
  {
   "cell_type": "code",
   "execution_count": 69,
   "id": "ad95c4a4",
   "metadata": {},
   "outputs": [
    {
     "data": {
      "text/plain": [
       "(dtype('int32'), dtype('int32'))"
      ]
     },
     "execution_count": 69,
     "metadata": {},
     "output_type": "execute_result"
    }
   ],
   "source": [
    "y_test.dtype , y_train.dtype"
   ]
  },
  {
   "cell_type": "code",
   "execution_count": 70,
   "id": "b9b073ce",
   "metadata": {},
   "outputs": [],
   "source": [
    "#encoding name_customer\n",
    "name_customer_encoder= LabelEncoder()\n",
    "name_customer_encoder.fit(x_train['name_customer'])\n",
    "x_train['name_customer_encoded']= name_customer_encoder.transform(x_train['name_customer'])\n",
    "#for new customers in validation set\n",
    "new_mem= set(x_valid['name_customer'])-set(name_customer_encoder.classes_)\n",
    "for i in new_mem:\n",
    "    name_customer_encoder.classes_ = np.append(name_customer_encoder.classes_, i)\n",
    "x_valid['name_customer_encoded']= name_customer_encoder.transform(x_valid['name_customer'])\n",
    "#for new customers in test set\n",
    "new_mem= set(x_test['name_customer'])-set(name_customer_encoder.classes_)\n",
    "for i in new_mem:\n",
    "    name_customer_encoder.classes_ = np.append(name_customer_encoder.classes_, i)\n",
    "x_test['name_customer_encoded']= name_customer_encoder.transform(x_test['name_customer'])"
   ]
  },
  {
   "cell_type": "code",
   "execution_count": 71,
   "id": "38c6f7ce",
   "metadata": {},
   "outputs": [],
   "source": [
    "x_train,x_valid,x_test =dropping(['name_customer'])"
   ]
  },
  {
   "cell_type": "code",
   "execution_count": 72,
   "id": "11f96d94",
   "metadata": {},
   "outputs": [
    {
     "name": "stdout",
     "output_type": "stream",
     "text": [
      "<class 'pandas.core.frame.DataFrame'>\n",
      "Int64Index: 31265 entries, 48938 to 20249\n",
      "Data columns (total 21 columns):\n",
      " #   Column                      Non-Null Count  Dtype         \n",
      "---  ------                      --------------  -----         \n",
      " 0   clear_date                  31265 non-null  datetime64[ns]\n",
      " 1   buisness_year               31265 non-null  int32         \n",
      " 2   doc_id                      31265 non-null  float64       \n",
      " 3   posting_date                31265 non-null  datetime64[ns]\n",
      " 4   document_create_date.1      31265 non-null  int64         \n",
      " 5   due_in_date                 31265 non-null  datetime64[ns]\n",
      " 6   document type               31265 non-null  int64         \n",
      " 7   total_open_amount           31265 non-null  float64       \n",
      " 8   posting_year                31265 non-null  int64         \n",
      " 9   due_year                    31265 non-null  int64         \n",
      " 10  clear_year                  31265 non-null  int64         \n",
      " 11  posting_month               31265 non-null  int64         \n",
      " 12  due_month                   31265 non-null  int64         \n",
      " 13  clear_month                 31265 non-null  int64         \n",
      " 14  posting_day                 31265 non-null  int64         \n",
      " 15  due_day                     31265 non-null  int64         \n",
      " 16  clear_day                   31265 non-null  int64         \n",
      " 17  business_code_encoded       31265 non-null  int32         \n",
      " 18  cust_no_encoded             31265 non-null  int32         \n",
      " 19  cust_payment_terms_encoded  31265 non-null  int32         \n",
      " 20  name_customer_encoded       31265 non-null  int32         \n",
      "dtypes: datetime64[ns](3), float64(2), int32(5), int64(11)\n",
      "memory usage: 4.7 MB\n"
     ]
    }
   ],
   "source": [
    "x_train.info()"
   ]
  },
  {
   "cell_type": "code",
   "execution_count": 73,
   "id": "5e787bcd",
   "metadata": {},
   "outputs": [],
   "source": [
    "#droping the datetime64 data type columns as their data has already been extracted\n",
    "x_train,x_valid,x_test =dropping(['clear_date'])\n",
    "x_train,x_valid,x_test =dropping(['posting_date'])\n",
    "x_train,x_valid,x_test =dropping(['due_in_date'])"
   ]
  },
  {
   "cell_type": "markdown",
   "id": "9c9f67b2",
   "metadata": {},
   "source": [
    "# Model Bulding"
   ]
  },
  {
   "cell_type": "markdown",
   "id": "e0f05c5d",
   "metadata": {},
   "source": [
    "#### test model "
   ]
  },
  {
   "cell_type": "code",
   "execution_count": 74,
   "id": "9de78064",
   "metadata": {},
   "outputs": [],
   "source": [
    "#testing model\n",
    "from xgboost import XGBClassifier\n",
    "classifier=XGBClassifier()"
   ]
  },
  {
   "cell_type": "code",
   "execution_count": 75,
   "id": "ff2d6286",
   "metadata": {},
   "outputs": [
    {
     "name": "stdout",
     "output_type": "stream",
     "text": [
      "[01:27:20] WARNING: C:/Users/Administrator/workspace/xgboost-win64_release_1.4.0/src/learner.cc:1095: Starting in XGBoost 1.3.0, the default evaluation metric used with the objective 'multi:softprob' was changed from 'merror' to 'mlogloss'. Explicitly set eval_metric if you'd like to restore the old behavior.\n"
     ]
    },
    {
     "data": {
      "text/plain": [
       "XGBClassifier(base_score=0.5, booster='gbtree', colsample_bylevel=1,\n",
       "              colsample_bynode=1, colsample_bytree=1, gamma=0, gpu_id=-1,\n",
       "              importance_type='gain', interaction_constraints='',\n",
       "              learning_rate=0.300000012, max_delta_step=0, max_depth=6,\n",
       "              min_child_weight=1, missing=nan, monotone_constraints='()',\n",
       "              n_estimators=100, n_jobs=8, num_parallel_tree=1,\n",
       "              objective='multi:softprob', random_state=0, reg_alpha=0,\n",
       "              reg_lambda=1, scale_pos_weight=None, subsample=1,\n",
       "              tree_method='exact', validate_parameters=1, verbosity=None)"
      ]
     },
     "execution_count": 75,
     "metadata": {},
     "output_type": "execute_result"
    }
   ],
   "source": [
    "#training model\n",
    "classifier.fit(x_train,y_train)"
   ]
  },
  {
   "cell_type": "code",
   "execution_count": 76,
   "id": "9885a9cd",
   "metadata": {},
   "outputs": [],
   "source": [
    "#prediction on validation data\n",
    "y_pred=classifier.predict(x_valid)"
   ]
  },
  {
   "cell_type": "code",
   "execution_count": 77,
   "id": "abcf804e",
   "metadata": {},
   "outputs": [],
   "source": [
    "from sklearn.metrics import confusion_matrix,accuracy_score"
   ]
  },
  {
   "cell_type": "code",
   "execution_count": 78,
   "id": "224669bd",
   "metadata": {},
   "outputs": [
    {
     "data": {
      "text/plain": [
       "0.9339815762538383"
      ]
     },
     "execution_count": 78,
     "metadata": {},
     "output_type": "execute_result"
    }
   ],
   "source": [
    "#accuracy\n",
    "accuracy_score(y_valid,y_pred)"
   ]
  },
  {
   "cell_type": "markdown",
   "id": "902f3e7b",
   "metadata": {},
   "source": [
    "#### model selection"
   ]
  },
  {
   "cell_type": "code",
   "execution_count": 79,
   "id": "03f61a28",
   "metadata": {},
   "outputs": [],
   "source": [
    "#testing other models\n",
    "from sklearn.linear_model import LogisticRegression\n",
    "from sklearn.svm import SVC\n",
    "from sklearn.tree import DecisionTreeClassifier\n",
    "from sklearn.neural_network import MLPClassifier\n",
    "from sklearn.ensemble import RandomForestClassifier\n",
    "from xgboost import XGBClassifier"
   ]
  },
  {
   "cell_type": "code",
   "execution_count": 80,
   "id": "1f2b7849",
   "metadata": {},
   "outputs": [
    {
     "name": "stdout",
     "output_type": "stream",
     "text": [
      "[01:29:32] WARNING: C:/Users/Administrator/workspace/xgboost-win64_release_1.4.0/src/learner.cc:1095: Starting in XGBoost 1.3.0, the default evaluation metric used with the objective 'multi:softprob' was changed from 'merror' to 'mlogloss'. Explicitly set eval_metric if you'd like to restore the old behavior.\n"
     ]
    }
   ],
   "source": [
    "models = [\n",
    "    LogisticRegression(),\n",
    "    SVC(),\n",
    "    DecisionTreeClassifier(),\n",
    "    MLPClassifier(),\n",
    "    RandomForestClassifier(),\n",
    "    XGBClassifier()\n",
    "]\n",
    "\n",
    "for model in models:\n",
    "    model.fit(x_train, y_train)"
   ]
  },
  {
   "cell_type": "code",
   "execution_count": 81,
   "id": "59abb738",
   "metadata": {},
   "outputs": [
    {
     "name": "stdout",
     "output_type": "stream",
     "text": [
      "   Logistic Regression: 21.2331%\n",
      "Support Vector Machine: 21.2331%\n",
      "         Decision Tree: 44.6406%\n",
      "        Neural Network: 3.2745%\n",
      "         Random Forest: 62.5480%\n",
      "               XGBoost: 93.1184%\n"
     ]
    }
   ],
   "source": [
    "model_names = [\n",
    "    \"   Logistic Regression\",\n",
    "    \"Support Vector Machine\",\n",
    "    \"         Decision Tree\",\n",
    "    \"        Neural Network\",\n",
    "    \"         Random Forest\",\n",
    "    \"               XGBoost\"\n",
    "]\n",
    "\n",
    "for model, name in zip(models, model_names):\n",
    "    print(name + \": {:.4f}%\".format(model.score(x_test, y_test) * 100))"
   ]
  },
  {
   "cell_type": "markdown",
   "id": "67e688a8",
   "metadata": {},
   "source": [
    "### Final Testing"
   ]
  },
  {
   "cell_type": "code",
   "execution_count": 82,
   "id": "c3f813d6",
   "metadata": {},
   "outputs": [],
   "source": [
    "#XGBoost provides the best accuracy\n",
    "\n",
    "#predicting on test set \n",
    "y_pred=classifier.predict(x_test)"
   ]
  },
  {
   "cell_type": "code",
   "execution_count": 83,
   "id": "857a0ef8",
   "metadata": {},
   "outputs": [
    {
     "data": {
      "text/plain": [
       "0.9311844461499105"
      ]
     },
     "execution_count": 83,
     "metadata": {},
     "output_type": "execute_result"
    }
   ],
   "source": [
    "#accuracy\n",
    "accuracy_score(y_test,y_pred)"
   ]
  },
  {
   "cell_type": "markdown",
   "id": "2ec469f1",
   "metadata": {},
   "source": [
    "## ML Model is been created : )"
   ]
  },
  {
   "cell_type": "code",
   "execution_count": 84,
   "id": "3d3d7790",
   "metadata": {},
   "outputs": [],
   "source": [
    "# filling up the clear_date columns' null values with the help of created predictive model"
   ]
  }
 ],
 "metadata": {
  "kernelspec": {
   "display_name": "Python 3",
   "language": "python",
   "name": "python3"
  },
  "language_info": {
   "codemirror_mode": {
    "name": "ipython",
    "version": 3
   },
   "file_extension": ".py",
   "mimetype": "text/x-python",
   "name": "python",
   "nbconvert_exporter": "python",
   "pygments_lexer": "ipython3",
   "version": "3.9.2"
  }
 },
 "nbformat": 4,
 "nbformat_minor": 5
}
